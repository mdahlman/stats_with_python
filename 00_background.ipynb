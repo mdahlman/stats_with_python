{
 "cells": [
  {
   "cell_type": "markdown",
   "metadata": {},
   "source": [
    "## Background\n",
    "I found significant descrepancies between the examples in the course and the behavior on my local environment. The differences are sometimes confusing.\n",
    "\n",
    "To begin with, note the versions used in the creation of the course as listed in the [Jupyter Notebook FAQ](https://www.coursera.org/learn/inferential-statistical-analysis-python/resources/gAwXs)\n",
    "1. Which version of python is this course in?\n",
    "\n",
    "    This course is in python 3.5, and includes the following libraries/packages:\n",
    "\n",
    "- Scipy 1.1.0\n",
    "- Numpy 1.14.5\n",
    "- Pandas 0.23.1\n",
    "- Matplotlib 2.2.2\n",
    "- Seaborn 0.9.0"
   ]
  },
  {
   "cell_type": "markdown",
   "metadata": {},
   "source": [
    "## Commentary\n",
    "\n",
    "These versions are quite old. How old are they?\n",
    "- [Scipy 1.1.0: May 2018](https://pypi.org/project/scipy/#history)\n",
    "- [Numpy 1.14.5: June 2018](https://pypi.org/project/scipy/#history)\n",
    "- [Pandas 0.23.1: June 2018](https://pypi.org/project/pandas/#history)\n",
    "- [Matplotlib 2.2.2: Mar 2018](https://pypi.org/project/matplotlib/#history)\n",
    "- [Seaborn 0.9.0: Jul 2018](https://pypi.org/project/seaborn/#history)\n",
    "\n",
    "How do the versions used to create these notebooks compare with the versions that you are using in your own environment?"
   ]
  },
  {
   "cell_type": "code",
   "execution_count": 2,
   "metadata": {},
   "outputs": [
    {
     "name": "stdout",
     "output_type": "stream",
     "text": [
      "My Python:      3.9.7\n",
      "My Scipy:       1.7.1\n",
      "My Numpy:       1.20.3\n",
      "My Pandas:      1.3.4\n",
      "My Matplotlib:  3.4.3\n",
      "My Seaborn:     0.11.2\n"
     ]
    }
   ],
   "source": [
    "# This code display the versions of packages which you are actually running.\n",
    "# You can easily compare these with the versions used to create the course.\n",
    "\n",
    "import platform\n",
    "# from scipy import stats is the more common import in this class\n",
    "import scipy\n",
    "import numpy as np\n",
    "import pandas as pd\n",
    "# import matplotlib.pyplot as plt is the more common import in this class\n",
    "import matplotlib as mpl\n",
    "import seaborn as sns\n",
    "\n",
    "\n",
    "print(f'My Python:      {platform.python_version()}')\n",
    "print(f'My Scipy:       {scipy.__version__}')\n",
    "print(f'My Numpy:       {np.__version__}')\n",
    "print(f'My Pandas:      {pd.__version__}')\n",
    "print(f'My Matplotlib:  {mpl.__version__}')\n",
    "print(f'My Seaborn:     {sns.__version__}')"
   ]
  }
 ],
 "metadata": {
  "interpreter": {
   "hash": "38cca0c38332a56087b24af0bc80247f4fced29cb4f7f437d91dc159adec9c4e"
  },
  "kernelspec": {
   "display_name": "Python 3.9.7 ('base')",
   "language": "python",
   "name": "python3"
  },
  "language_info": {
   "codemirror_mode": {
    "name": "ipython",
    "version": 3
   },
   "file_extension": ".py",
   "mimetype": "text/x-python",
   "name": "python",
   "nbconvert_exporter": "python",
   "pygments_lexer": "ipython3",
   "version": "3.9.7"
  },
  "orig_nbformat": 4
 },
 "nbformat": 4,
 "nbformat_minor": 2
}
