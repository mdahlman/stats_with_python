{
 "cells": [
  {
   "cell_type": "markdown",
   "metadata": {
    "colab_type": "text",
    "id": "rI9-dSe5he9e"
   },
   "source": [
    "# Python Libraries\n",
    "\n",
    "For this tutorial, we are going to outline the most common uses for each of the following libraries:\n",
    "\n",
    "* **Numpy** is a library for working with arrays of data.\n",
    "\n",
    "* **Scipy** is a library of techniques for numerical and scientific computing.\n",
    "\n",
    "* **Matplotlib** is a library for making visualizations.\n",
    "\n",
    "* **Seaborn** is a higher-level interface to Matplotlib that can be used to simplify many visualization tasks.\n",
    "\n",
    "*__Important__: While this tutorial provides insight into the basics of these libraries,  I recommend digging into the documentation that is available online.*"
   ]
  },
  {
   "cell_type": "markdown",
   "metadata": {
    "colab_type": "text",
    "id": "3jBxP9ZhigUY"
   },
   "source": [
    "## NumPy\n",
    "\n",
    "NumPy is the fundamental package for scientific computing with Python. It contains among other things:\n",
    "\n",
    "* a powerful N-dimensional array object\n",
    "* sophisticated (broadcasting) functions\n",
    "* tools for integrating C/C++ and Fortran code\n",
    "* useful linear algebra, Fourier transform, and random number capabilities\n",
    "\n",
    "We will focus on the numpy array object.\n",
    "\n",
    "#### Numpy Array\n",
    "\n",
    "A numpy array is a grid of values, all of the same type, and is indexed by a tuple of nonnegative integers. The number of dimensions is the rank of the array; the shape of an array is a tuple of integers giving the size of the array along each dimension. "
   ]
  },
  {
   "cell_type": "code",
   "execution_count": 4,
   "metadata": {
    "colab": {},
    "colab_type": "code",
    "id": "3K83K-VAlPn2"
   },
   "outputs": [],
   "source": [
    "import numpy as np"
   ]
  },
  {
   "cell_type": "code",
   "execution_count": 0,
   "metadata": {
    "colab": {},
    "colab_type": "code",
    "id": "ZQTQGd_KlJf2"
   },
   "outputs": [],
   "source": [
    "### Create a 3x1 numpy array\n",
    "a = np.array([1,2,3])\n",
    "\n",
    "### Print object type\n",
    "print(type(a))\n",
    "\n",
    "### Print shape\n",
    "print(a.shape)\n",
    "\n",
    "### Print some values in a\n",
    "print(a[0], a[1], a[2])\n",
    "\n",
    "### Create a 2x2 numpy array\n",
    "b = np.array([[1,2],[3,4]])\n",
    "\n",
    "### Print shape\n",
    "print(b.shape)\n",
    "\n",
    "## Print some values in b\n",
    "print(b[0,0], b[0,1], b[1,1])\n",
    "\n",
    "### Create a 3x2 numpy array\n",
    "c = np.array([[1,2],[3,4],[5,6]])\n",
    "\n",
    "### Print shape\n",
    "print(c.shape)\n",
    "\n",
    "### Print some values in c\n",
    "print(c[0,1], c[1,0], c[2,0], c[2,1])"
   ]
  },
  {
   "cell_type": "code",
   "execution_count": 2,
   "metadata": {
    "colab": {},
    "colab_type": "code",
    "id": "SKAeIpOUm6oC"
   },
   "outputs": [
    {
     "name": "stdout",
     "output_type": "stream",
     "text": [
      "[[0. 0. 0.]\n",
      " [0. 0. 0.]]\n",
      "[[1. 1.]\n",
      " [1. 1.]\n",
      " [1. 1.]\n",
      " [1. 1.]]\n",
      "[[9 9]\n",
      " [9 9]]\n",
      "[[0.23020841 0.73094877 0.48906159]\n",
      " [0.4001348  0.47167339 0.60257436]\n",
      " [0.68681879 0.95634661 0.20998215]]\n"
     ]
    }
   ],
   "source": [
    "### 2x3 zero array \n",
    "d = np.zeros((2,3))\n",
    "\n",
    "print(d)\n",
    "\n",
    "### 4x2 array of ones\n",
    "e = np.ones((4,2))\n",
    "\n",
    "print(e)\n",
    "\n",
    "### 2x2 constant array\n",
    "f = np.full((2,2), 9)\n",
    "\n",
    "print(f)\n",
    "\n",
    "### 3x3 random array\n",
    "g = np.random.random((3,3))\n",
    "\n",
    "print(g)\n"
   ]
  },
  {
   "cell_type": "markdown",
   "metadata": {
    "colab_type": "text",
    "id": "G5MxjOzNpXRf"
   },
   "source": [
    "#### Array Indexing"
   ]
  },
  {
   "cell_type": "code",
   "execution_count": 0,
   "metadata": {
    "colab": {},
    "colab_type": "code",
    "id": "wLqIR_J7pdxE"
   },
   "outputs": [],
   "source": [
    "### Create 3x4 array\n",
    "h = np.array([[1,2,3,4,], [5,6,7,8], [9,10,11,12]])\n",
    "\n",
    "print(h)\n",
    "\n",
    "### Slice array to make a 2x2 sub-array\n",
    "i = h[:2, 1:3]\n",
    "\n",
    "print(i)"
   ]
  },
  {
   "cell_type": "code",
   "execution_count": 0,
   "metadata": {
    "colab": {},
    "colab_type": "code",
    "id": "6eJBCxlyqm6i"
   },
   "outputs": [],
   "source": [
    "print(h[0,1])\n",
    "\n",
    "### Modify the slice\n",
    "i[0,0] = 1738\n",
    "\n",
    "### Print to show how modifying the slice also changes the base object\n",
    "print(h[0,1])"
   ]
  },
  {
   "cell_type": "markdown",
   "metadata": {
    "colab_type": "text",
    "id": "u1CDIqHXtCe5"
   },
   "source": [
    "#### Datatypes in Arrays"
   ]
  },
  {
   "cell_type": "code",
   "execution_count": 0,
   "metadata": {
    "colab": {},
    "colab_type": "code",
    "id": "RumLhraYtGlU"
   },
   "outputs": [],
   "source": [
    "### Integer\n",
    "j = np.array([1, 2])\n",
    "print(j.dtype)  \n",
    "\n",
    "\n",
    "### Float\n",
    "k = np.array([1.0, 2.0])\n",
    "print(k.dtype)         \n",
    "\n",
    "### Force Data Type\n",
    "l = np.array([1.0, 2.0], dtype=np.int64)\n",
    "print(l.dtype)"
   ]
  },
  {
   "cell_type": "markdown",
   "metadata": {
    "colab_type": "text",
    "id": "NMaOi2kStjJ5"
   },
   "source": [
    "#### Array Math\n",
    "\n",
    "Basic mathematical functions operate elementwise on arrays, and are available both as operator overloads and as functions in the numpy module:"
   ]
  },
  {
   "cell_type": "code",
   "execution_count": 0,
   "metadata": {
    "colab": {},
    "colab_type": "code",
    "id": "MjSXIlPetl6q"
   },
   "outputs": [],
   "source": [
    "x = np.array([[1,2],[3,4]], dtype=np.float64)\n",
    "y = np.array([[5,6],[7,8]], dtype=np.float64)\n",
    "\n",
    "# Elementwise sum; both produce the array\n",
    "# [[ 6.0  8.0]\n",
    "#  [10.0 12.0]]\n",
    "print(x + y)\n",
    "print(np.add(x, y))\n",
    "\n",
    "# Elementwise difference; both produce the array\n",
    "# [[-4.0 -4.0]\n",
    "#  [-4.0 -4.0]]\n",
    "print(x - y)\n",
    "print(np.subtract(x, y))\n",
    "\n",
    "# Elementwise product; both produce the array\n",
    "# [[ 5.0 12.0]\n",
    "#  [21.0 32.0]]\n",
    "print(x * y)\n",
    "print(np.multiply(x, y))\n",
    "\n",
    "# Elementwise division; both produce the array\n",
    "# [[ 0.2         0.33333333]\n",
    "#  [ 0.42857143  0.5       ]]\n",
    "print(x / y)\n",
    "print(np.divide(x, y))\n",
    "\n",
    "# Elementwise square root; produces the array\n",
    "# [[ 1.          1.41421356]\n",
    "#  [ 1.73205081  2.        ]]\n",
    "print(np.sqrt(x))"
   ]
  },
  {
   "cell_type": "code",
   "execution_count": 3,
   "metadata": {
    "colab": {},
    "colab_type": "code",
    "id": "gWn0vrZwt-SN"
   },
   "outputs": [
    {
     "name": "stdout",
     "output_type": "stream",
     "text": [
      "10\n",
      "[4 6]\n",
      "[3 7]\n"
     ]
    }
   ],
   "source": [
    "x = np.array([[1,2],[3,4]])\n",
    "\n",
    "### Compute sum of all elements; prints \"10\"\n",
    "print(np.sum(x))\n",
    "\n",
    "### Compute sum of each column; prints \"[4 6]\"\n",
    "print(np.sum(x, axis=0)) \n",
    "\n",
    "### Compute sum of each row; prints \"[3 7]\"\n",
    "print(np.sum(x, axis=1))"
   ]
  },
  {
   "cell_type": "code",
   "execution_count": 0,
   "metadata": {
    "colab": {},
    "colab_type": "code",
    "id": "7HttMbUHuPOP"
   },
   "outputs": [],
   "source": [
    "x = np.array([[1,2],[3,4]])\n",
    "\n",
    "### Compute mean of all elements; prints \"2.5\"\n",
    "print(np.mean(x))\n",
    "\n",
    "### Compute mean of each column; prints \"[2 3]\"\n",
    "print(np.mean(x, axis=0)) \n",
    "\n",
    "### Compute mean of each row; prints \"[1.5 3.5]\"\n",
    "print(np.mean(x, axis=1))"
   ]
  },
  {
   "cell_type": "markdown",
   "metadata": {
    "colab_type": "text",
    "id": "yJfJSSu6uaCT"
   },
   "source": [
    "## SciPy\n",
    "\n",
    "Numpy provides a high-performance multidimensional array and basic tools to compute with and manipulate these arrays. SciPy builds on this, and provides a large number of functions that operate on numpy arrays and are useful for different types of scientific and engineering applications.\n",
    "\n",
    "For this course, we will primariyl be using the **SciPy.Stats** sub-library.\n",
    "\n",
    "### SciPy.Stats\n",
    "\n",
    "The SciPy.Stats module contains a large number of probability distributions as well as a growing library of statistical functions such as:\n",
    "\n",
    "* Continuous and Discrete Distributions (i.e Normal, Uniform, Binomial, etc.)\n",
    "\n",
    "* Descriptive Statistcs\n",
    "\n",
    "* Statistical Tests (i.e T-Test)"
   ]
  },
  {
   "cell_type": "code",
   "execution_count": 7,
   "metadata": {
    "colab": {},
    "colab_type": "code",
    "id": "WU4IDn3rxRqH"
   },
   "outputs": [],
   "source": [
    "from scipy import stats\n",
    "import numpy as np"
   ]
  },
  {
   "cell_type": "code",
   "execution_count": 6,
   "metadata": {
    "colab": {},
    "colab_type": "code",
    "id": "bglGZ0nhxSNz"
   },
   "outputs": [
    {
     "name": "stdout",
     "output_type": "stream",
     "text": [
      "[ 1.77833046 -0.23911195 -0.60115878 -0.13506145 -0.85970972  0.94136474\n",
      " -2.67546369  2.15890074  1.34700196  0.11653856]\n"
     ]
    }
   ],
   "source": [
    "### Print Normal Random Variables\n",
    "print(stats.norm.rvs(size = 10))"
   ]
  },
  {
   "cell_type": "code",
   "execution_count": 5,
   "metadata": {
    "colab": {},
    "colab_type": "code",
    "id": "jbv47bNHEoDn"
   },
   "outputs": [
    {
     "data": {
      "image/png": "[encoded data removed]",
      "text/plain": [
       "<Figure size 432x288 with 1 Axes>"
      ]
     },
     "metadata": {},
     "output_type": "display_data"
    },
    {
     "name": "stdout",
     "output_type": "stream",
     "text": [
      "(400,)\n",
      "(400,)\n"
     ]
    }
   ],
   "source": [
    "from pylab import *\n",
    "\n",
    "# Create some test data\n",
    "dx = .01\n",
    "X  = np.arange(-2,2,dx)\n",
    "Y  = exp(-X**2)\n",
    "\n",
    "# Normalize the data to a proper PDF\n",
    "Y /= (dx*Y).sum()\n",
    "\n",
    "# Compute the CDF \n",
    "CY = np.cumsum(Y*dx)\n",
    "\n",
    "# Plot both\n",
    "plot(X,Y)\n",
    "plot(X,CY,'r--')\n",
    "\n",
    "show()\n",
    "\n",
    "print(X.shape)\n",
    "print(Y.shape)"
   ]
  },
  {
   "cell_type": "code",
   "execution_count": 8,
   "metadata": {
    "colab": {},
    "colab_type": "code",
    "id": "iZ7OsmRWDs2e"
   },
   "outputs": [
    {
     "name": "stdout",
     "output_type": "stream",
     "text": [
      "[0.84134475 0.15865525 0.5        0.84134475 0.9986501  0.99996833\n",
      " 0.02275013 1.        ]\n"
     ]
    }
   ],
   "source": [
    "### Compute the Normal CDF of certain values.\n",
    "print(stats.norm.cdf(np.array([1,-1., 0, 1, 3, 4, -2, 6])))"
   ]
  },
  {
   "cell_type": "markdown",
   "metadata": {
    "colab_type": "text",
    "id": "hH2Dr9OQFhXg"
   },
   "source": [
    "#### Descriptive Statistics"
   ]
  },
  {
   "cell_type": "code",
   "execution_count": 0,
   "metadata": {
    "colab": {},
    "colab_type": "code",
    "id": "X6pmHJ8LFjO5"
   },
   "outputs": [],
   "source": [
    "np.random.seed(282629734)\n",
    "\n",
    "# Generate 1000 Student’s T continuous random variables.\n",
    "x = stats.t.rvs(10, size=1000)"
   ]
  },
  {
   "cell_type": "code",
   "execution_count": 0,
   "metadata": {
    "colab": {},
    "colab_type": "code",
    "id": "jIhbREk8FnHX"
   },
   "outputs": [],
   "source": [
    "# Do some descriptive statistics\n",
    "print(x.min())   # equivalent to np.min(x)\n",
    "\n",
    "print(x.max())   # equivalent to np.max(x)\n",
    "\n",
    "print(x.mean())  # equivalent to np.mean(x)\n",
    "\n",
    "print(x.var())   # equivalent to np.var(x))\n",
    "\n",
    "stats.describe(x)"
   ]
  },
  {
   "cell_type": "markdown",
   "metadata": {
    "colab_type": "text",
    "id": "q7gjLQq3GY8c"
   },
   "source": [
    "Later in the course, we will discuss distributions and statistical tests such as a T-Test.  SciPy has built in functions for these operations."
   ]
  },
  {
   "cell_type": "markdown",
   "metadata": {
    "colab_type": "text",
    "id": "WfAh0w76xSWP"
   },
   "source": [
    "## MatPlotLib\n",
    "\n",
    "Matplotlib is a plotting library. In this section give a brief introduction to the matplotlib.pyplot module."
   ]
  },
  {
   "cell_type": "code",
   "execution_count": 9,
   "metadata": {
    "colab": {},
    "colab_type": "code",
    "id": "A3sWS5S8xdjh"
   },
   "outputs": [],
   "source": [
    "import numpy as np\n",
    "import matplotlib.pyplot as plt"
   ]
  },
  {
   "cell_type": "code",
   "execution_count": 15,
   "metadata": {
    "colab": {},
    "colab_type": "code",
    "id": "Izsn4gRFxb4A"
   },
   "outputs": [
    {
     "name": "stdout",
     "output_type": "stream",
     "text": [
      "(76,)\n",
      "(76,)\n"
     ]
    },
    {
     "data": {
      "image/png": "[encoded data removed]",
      "text/plain": [
       "<Figure size 432x288 with 1 Axes>"
      ]
     },
     "metadata": {},
     "output_type": "display_data"
    }
   ],
   "source": [
    "# Compute the x and y coordinates for points on a sine curve\n",
    "x = np.arange(0, 12 * np.pi, 0.5)\n",
    "y = np.sin(x)\n",
    "\n",
    "print(x.shape)\n",
    "print(y.shape)\n",
    "\n",
    "# Plot the points using matplotlib\n",
    "plt.plot(x, y)\n",
    "plt.show()  # You must call plt.show() to make graphics appear."
   ]
  },
  {
   "cell_type": "code",
   "execution_count": 20,
   "metadata": {
    "colab": {},
    "colab_type": "code",
    "id": "5QTLLYzWxhCv"
   },
   "outputs": [
    {
     "data": {
      "image/png": "[encoded data removed]",
      "text/plain": [
       "<Figure size 432x288 with 1 Axes>"
      ]
     },
     "metadata": {},
     "output_type": "display_data"
    }
   ],
   "source": [
    "# Compute the x and y coordinates for points on sine and cosine curves\n",
    "x = np.arange(0, 3 * np.pi, 0.1)\n",
    "y_sin = np.sin(x)\n",
    "y_cos = np.cos(x)\n",
    "\n",
    "# Plot the points using matplotlib\n",
    "plt.plot(x, y_sin)\n",
    "plt.plot(x, y_cos)\n",
    "plt.xlabel('x axis label')\n",
    "plt.ylabel('y axis label')\n",
    "plt.title('Sine and Cosine with quite a long title to see what happens when it runs very long. Or even extremely long to the point that displaying it may be difficult. Or even really extremely long to the point that displaying it may be difficult.')\n",
    "plt.legend(['Sine', 'Cosine'])\n",
    "plt.show()"
   ]
  },
  {
   "cell_type": "markdown",
   "metadata": {
    "colab_type": "text",
    "id": "mivfc7qvxk5k"
   },
   "source": [
    "#### Subplots"
   ]
  },
  {
   "cell_type": "code",
   "execution_count": 35,
   "metadata": {
    "colab": {},
    "colab_type": "code",
    "id": "YsfeH4QSxoZ4"
   },
   "outputs": [
    {
     "data": {
      "image/png": "[encoded data removed]",
      "text/plain": [
       "<Figure size 432x288 with 3 Axes>"
      ]
     },
     "metadata": {},
     "output_type": "display_data"
    }
   ],
   "source": [
    "import numpy as np\n",
    "import matplotlib.pyplot as plt\n",
    "\n",
    "# Compute the x and y coordinates for points on sine and cosine curves\n",
    "x = np.arange(0, 3 * np.pi, 0.02)\n",
    "y_sin = np.sin(x)\n",
    "y_cos = np.cos(x)\n",
    "y_tan = np.tan(x)\n",
    "\n",
    "# Set up a subplot grid that has height 2 and width 1,\n",
    "# and set the first such subplot as active.\n",
    "plt.subplot(3, 1, 1)\n",
    "\n",
    "# Make the first plot\n",
    "plt.plot(x, y_sin)\n",
    "plt.title('Sine')\n",
    "\n",
    "# Set the second subplot as active, and make the second plot.\n",
    "plt.subplot(3, 1, 2)\n",
    "plt.plot(x, y_cos)\n",
    "plt.title('Cosine')\n",
    "\n",
    "# Set the third subplot as active\n",
    "plt.subplot(3, 1, 3)\n",
    "plt.plot(x, y_tan)\n",
    "plt.title('Tangent')\n",
    "\n",
    "# Show the figure.\n",
    "plt.show()"
   ]
  },
  {
   "cell_type": "markdown",
   "metadata": {
    "colab_type": "text",
    "id": "BexAudm39FDR"
   },
   "source": [
    "## Seaborn\n",
    "\n",
    "Seaborn is complimentary to Matplotlib and it specifically targets statistical data visualization. But it goes even further than that: Seaborn extends Matplotlib and makes generating visualizations convenient.\n",
    "\n",
    "While Matplotlib is a robust solution for various problems, Seaborn utilizes more concise paramesters for ease-of-use.\n",
    "\n",
    "#### Scatterplots\n",
    "\n"
   ]
  },
  {
   "cell_type": "code",
   "execution_count": 36,
   "metadata": {
    "colab": {},
    "colab_type": "code",
    "id": "90VVVCGO-Xxg"
   },
   "outputs": [
    {
     "data": {
      "image/png": "[encoded data removed]",
      "text/plain": [
       "<Figure size 360x360 with 1 Axes>"
      ]
     },
     "metadata": {},
     "output_type": "display_data"
    }
   ],
   "source": [
    "# Import necessary libraries\n",
    "import seaborn as sns\n",
    "import matplotlib.pyplot as plt\n",
    "import pandas as pd\n",
    "\n",
    "# Store the url string that hosts our .csv file\n",
    "url = \"Cartwheeldata.csv\"\n",
    "\n",
    "# Read the .csv file and store it as a pandas Data Frame\n",
    "df = pd.read_csv(url)\n",
    "\n",
    "# Create Scatterplot\n",
    "sns.lmplot(x='Wingspan', y='CWDistance', data=df)\n",
    "\n",
    "plt.show()"
   ]
  },
  {
   "cell_type": "code",
   "execution_count": 39,
   "metadata": {
    "colab": {},
    "colab_type": "code",
    "id": "wrzxtgn5-olI",
    "scrolled": true
   },
   "outputs": [
    {
     "data": {
      "image/png": "[encoded data removed]",
      "text/plain": [
       "<Figure size 404.875x360 with 1 Axes>"
      ]
     },
     "metadata": {},
     "output_type": "display_data"
    }
   ],
   "source": [
    "# Scatterplot arguments\n",
    "sns.lmplot(x='Wingspan', y='CWDistance', data=df,\n",
    "           fit_reg=False, # No regression line\n",
    "           hue='Gender')   # Color by evolution stage\n",
    "\n",
    "plt.show()"
   ]
  },
  {
   "cell_type": "markdown",
   "metadata": {
    "colab_type": "text",
    "id": "OGQzWWMi-80n"
   },
   "source": []
  },
  {
   "cell_type": "code",
   "execution_count": 40,
   "metadata": {
    "colab": {},
    "colab_type": "code",
    "id": "TPKCLQUD9G6G",
    "scrolled": true
   },
   "outputs": [
    {
     "data": {
      "image/png": "[encoded data removed]",
      "text/plain": [
       "<Figure size 432x288 with 1 Axes>"
      ]
     },
     "metadata": {},
     "output_type": "display_data"
    }
   ],
   "source": [
    "# Construct Cartwheel distance plot\n",
    "sns.swarmplot(x=\"Gender\", y=\"CWDistance\", data=df)\n",
    "\n",
    "plt.show()"
   ]
  },
  {
   "cell_type": "markdown",
   "metadata": {
    "colab_type": "text",
    "id": "94-D7AEI_Fyl"
   },
   "source": [
    "#### Boxplots"
   ]
  },
  {
   "cell_type": "code",
   "execution_count": 41,
   "metadata": {
    "colab": {},
    "colab_type": "code",
    "id": "kT-VKWiGAyYa"
   },
   "outputs": [
    {
     "data": {
      "image/png": "[encoded data removed]",
      "text/plain": [
       "<Figure size 432x288 with 1 Axes>"
      ]
     },
     "metadata": {},
     "output_type": "display_data"
    }
   ],
   "source": [
    "sns.boxplot(data=df.loc[:, [\"Age\", \"Height\", \"Wingspan\", \"CWDistance\", \"Score\"]])\n",
    "\n",
    "plt.show()"
   ]
  },
  {
   "cell_type": "code",
   "execution_count": 0,
   "metadata": {
    "colab": {},
    "colab_type": "code",
    "id": "UsZahu0X_HwC"
   },
   "outputs": [],
   "source": [
    "# Male Boxplot\n",
    "sns.boxplot(data=df.loc[df['Gender'] == 'M', [\"Age\", \"Height\", \"Wingspan\", \"CWDistance\", \"Score\"]])\n",
    "\n",
    "plt.show()"
   ]
  },
  {
   "cell_type": "code",
   "execution_count": 0,
   "metadata": {
    "colab": {},
    "colab_type": "code",
    "id": "XdHWF3vyA0M1"
   },
   "outputs": [],
   "source": [
    "# Female Boxplot\n",
    "sns.boxplot(data=df.loc[df['Gender'] == 'F', [\"Age\", \"Height\", \"Wingspan\", \"CWDistance\", \"Score\"]])\n",
    "\n",
    "plt.show()"
   ]
  },
  {
   "cell_type": "code",
   "execution_count": 0,
   "metadata": {
    "colab": {},
    "colab_type": "code",
    "id": "wi4Qco88BLHQ"
   },
   "outputs": [],
   "source": [
    "# Male Boxplot\n",
    "sns.boxplot(data=df.loc[df['Gender'] == 'M', [\"Score\"]])\n",
    "\n",
    "plt.show()"
   ]
  },
  {
   "cell_type": "code",
   "execution_count": 0,
   "metadata": {
    "colab": {},
    "colab_type": "code",
    "id": "8NjIShaZBL3A"
   },
   "outputs": [],
   "source": [
    "# Female Boxplot\n",
    "sns.boxplot(data=df.loc[df['Gender'] == 'F', [\"Score\"]])\n",
    "\n",
    "plt.show()"
   ]
  },
  {
   "cell_type": "markdown",
   "metadata": {
    "colab_type": "text",
    "id": "ui1yjuY0Bm-H"
   },
   "source": [
    "#### Histogram"
   ]
  },
  {
   "cell_type": "code",
   "execution_count": 0,
   "metadata": {
    "colab": {},
    "colab_type": "code",
    "id": "aJPdjHmHBob4"
   },
   "outputs": [],
   "source": [
    "# Distribution Plot (a.k.a. Histogram)\n",
    "sns.distplot(df.CWDistance)\n",
    "\n",
    "plt.show()"
   ]
  },
  {
   "cell_type": "markdown",
   "metadata": {
    "colab_type": "text",
    "id": "Ens8D4xXBxuN"
   },
   "source": [
    "#### Count Plot"
   ]
  },
  {
   "cell_type": "code",
   "execution_count": 42,
   "metadata": {
    "colab": {},
    "colab_type": "code",
    "id": "HSuc79qqBxQq"
   },
   "outputs": [
    {
     "data": {
      "image/png": "[encoded data removed]",
      "text/plain": [
       "<Figure size 432x288 with 1 Axes>"
      ]
     },
     "metadata": {},
     "output_type": "display_data"
    }
   ],
   "source": [
    "# Count Plot (a.k.a. Bar Plot)\n",
    "sns.countplot(x='Gender', data=df)\n",
    " \n",
    "plt.xticks(rotation=-45)\n",
    "\n",
    "plt.show()"
   ]
  }
 ],
 "metadata": {
  "colab": {
   "collapsed_sections": [],
   "name": "Important Python Libraries.ipynb",
   "provenance": [],
   "version": "0.3.2"
  },
  "kernelspec": {
   "display_name": "Python 3",
   "language": "python",
   "name": "python3"
  },
  "language_info": {
   "codemirror_mode": {
    "name": "ipython",
    "version": 3
   },
   "file_extension": ".py",
   "mimetype": "text/x-python",
   "name": "python",
   "nbconvert_exporter": "python",
   "pygments_lexer": "ipython3",
   "version": "3.6.3"
  }
 },
 "nbformat": 4,
 "nbformat_minor": 1
}
