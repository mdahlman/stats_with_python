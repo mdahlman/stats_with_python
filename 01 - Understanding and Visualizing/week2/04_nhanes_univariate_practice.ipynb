{
 "cells": [
  {
   "cell_type": "markdown",
   "metadata": {},
   "source": [
    "# Practice notebook for univariate analysis using NHANES data\n",
    "\n",
    "This notebook will give you the opportunity to perform some univariate analyses on your own using the NHANES.  These analyses are similar to what was done in the week 2 NHANES case study notebook.\n",
    "\n",
    "You can enter your code into the cells that say \"enter your code here\", and you can type responses to the questions into the cells that say \"Type Markdown and Latex\".\n",
    "\n",
    "Note that most of the code that you will need to write below is very similar to code that appears in the case study notebook.  You will need to edit code from that notebook in small ways to adapt it to the prompts below.\n",
    "\n",
    "To get started, we will use the same module imports and read the data in the same way as we did in the case study:"
   ]
  },
  {
   "cell_type": "code",
   "execution_count": 1,
   "metadata": {},
   "outputs": [],
   "source": [
    "%matplotlib inline\n",
    "import matplotlib.pyplot as plt\n",
    "import seaborn as sns\n",
    "import pandas as pd\n",
    "import statsmodels.api as sm\n",
    "import numpy as np\n",
    "\n",
    "pd.set_option('display.max_columns', 500)\n",
    "pd.set_option('display.width', 1000)\n",
    "\n",
    "da = pd.read_csv(\"nhanes_2015_2016.csv\")\n",
    "# print(da.columns)\n",
    "# print(f'Num columns: {len(da.columns)}')"
   ]
  },
  {
   "cell_type": "markdown",
   "metadata": {},
   "source": [
    "## Question 1\n",
    "\n",
    "Relabel the marital status variable [DMDMARTL](https://wwwn.cdc.gov/Nchs/Nhanes/2015-2016/DEMO_I.htm#DMDMARTL) to have brief but informative character labels.  Then construct a frequency table of these values for all people, then for women only, and for men only.  Then construct these three frequency tables using only people whose age is between 30 and 40."
   ]
  },
  {
   "cell_type": "code",
   "execution_count": 2,
   "metadata": {},
   "outputs": [
    {
     "name": "stdout",
     "output_type": "stream",
     "text": [
      "Frequency table for DMDMARTLx\n",
      "Married             2780\n",
      "Never married       1004\n",
      "Divorced             579\n",
      "Living w partner     527\n",
      "Widowed              396\n",
      "Separated            186\n",
      "Refused                2\n",
      "Name: DMDMARTLx, dtype: int64\n",
      "\n",
      "Frequency table for women\n",
      "Married             1303\n",
      "Never married        520\n",
      "Divorced             350\n",
      "Widowed              296\n",
      "Living w partner     262\n",
      "Separated            118\n",
      "Refused                1\n",
      "Name: DMDMARTLx, dtype: int64\n",
      "\n",
      "Frequency table for men\n",
      "Married             1477\n",
      "Never married        484\n",
      "Living w partner     265\n",
      "Divorced             229\n",
      "Widowed              100\n",
      "Separated             68\n",
      "Refused                1\n",
      "Name: DMDMARTLx, dtype: int64\n"
     ]
    }
   ],
   "source": [
    "# Create DMDMARTLx with corresponding text labels\n",
    "da['DMDMARTLx'] = da.DMDMARTL.replace({1:'Married', 2:'Widowed', 3:'Divorced', 4:'Separated', 5:'Never married', 6:'Living w partner'\n",
    "    , 77:'Refused', 99:\"Don't Know\"})\n",
    "da.DMDMARTLx.fillna('Missing')\n",
    "da[\"RIAGENDRx\"] = da.RIAGENDR.replace({1: \"Male\", 2: \"Female\"})\n",
    "\n",
    "\n",
    "# Frequency table for everyone\n",
    "print('Frequency table for DMDMARTLx')\n",
    "print(da.DMDMARTLx.value_counts())\n",
    "\n",
    "# Frequency table by gender\n",
    "women = da[da['RIAGENDR'] == 2]\n",
    "men   = da[da['RIAGENDR'] == 1]\n",
    "print('\\nFrequency table for women')\n",
    "print(women.DMDMARTLx.value_counts())\n",
    "print('\\nFrequency table for men')\n",
    "print(men.DMDMARTLx.value_counts())"
   ]
  },
  {
   "cell_type": "code",
   "execution_count": 3,
   "metadata": {},
   "outputs": [
    {
     "name": "stdout",
     "output_type": "stream",
     "text": [
      "Frequency table for DMDMARTLx for 30-somethings\n",
      "Married             516\n",
      "Never married       186\n",
      "Living w partner    129\n",
      "Divorced             67\n",
      "Separated            29\n",
      "Widowed               4\n",
      "Refused               1\n",
      "Name: DMDMARTLx, dtype: int64\n",
      "\n",
      "Frequency table for women\n",
      "Married             258\n",
      "Never married        97\n",
      "Living w partner     57\n",
      "Divorced             43\n",
      "Separated            17\n",
      "Widowed               2\n",
      "Name: DMDMARTLx, dtype: int64\n",
      "\n",
      "Frequency table for men\n",
      "Married             258\n",
      "Never married        89\n",
      "Living w partner     72\n",
      "Divorced             24\n",
      "Separated            12\n",
      "Widowed               2\n",
      "Refused               1\n",
      "Name: DMDMARTLx, dtype: int64\n"
     ]
    }
   ],
   "source": [
    "# Filter to look only at population of people between 30 and 40\n",
    "da_30s = da.loc[(da['RIDAGEYR'] > 30) & (da['RIDAGEYR'] <= 40)]\n",
    "print('Frequency table for DMDMARTLx for 30-somethings')\n",
    "print(da_30s.DMDMARTLx.value_counts())\n",
    "\n",
    "# Frequency table by gender\n",
    "women = da_30s[da_30s['RIAGENDR'] == 2]\n",
    "men   = da_30s[da_30s['RIAGENDR'] == 1]\n",
    "print('\\nFrequency table for women')\n",
    "print(women.DMDMARTLx.value_counts())\n",
    "print('\\nFrequency table for men')\n",
    "print(men.DMDMARTLx.value_counts())"
   ]
  },
  {
   "cell_type": "markdown",
   "metadata": {},
   "source": [
    "__Q1a.__ Briefly comment on some of the differences that you observe between the distribution of marital status between women and men, for people of all ages."
   ]
  },
  {
   "cell_type": "markdown",
   "metadata": {},
   "source": [
    "## Women vs men\n",
    "When comparing women vs men for all ages, we find that women are distinctly more likely to be divorced than men (9% vs 5%). Men are more likely to be living with partner (16% vs 12%)"
   ]
  },
  {
   "cell_type": "markdown",
   "metadata": {},
   "source": [
    "__Q1b.__ Briefly comment on the differences that you observe between the distribution of marital status states for women between the overall population, and for women between the ages of 30 and 40."
   ]
  },
  {
   "cell_type": "markdown",
   "metadata": {},
   "source": [
    "### Women overall vs women aged 30-40\n",
    "The more noticeable difference between these groups is that 30-something women are much less likely to be widowed. Further, they more likely to be living with partner and less likely to be divorced compared with women overall."
   ]
  },
  {
   "cell_type": "markdown",
   "metadata": {},
   "source": [
    "__Q1c.__ Repeat part b for the men."
   ]
  },
  {
   "cell_type": "markdown",
   "metadata": {},
   "source": [
    "### Men overall vs men aged 30-40\n",
    "For men overall, widowhood is twice as prevelant as separation. But for 30-something men are 6 times more likely to be separated than widowed."
   ]
  },
  {
   "cell_type": "markdown",
   "metadata": {},
   "source": [
    "## Question 2\n",
    "\n",
    "Restricting to the female population, stratify the subjects into age bands no wider than ten years, and construct the distribution of marital status within each age band.  Within each age band, present the distribution in terms of proportions that must sum to 1."
   ]
  },
  {
   "cell_type": "code",
   "execution_count": 4,
   "metadata": {},
   "outputs": [
    {
     "data": {
      "text/html": [
       "<style  type=\"text/css\" >\n",
       "</style><table id=\"T_2f41b09c_a3b5_11ec_a3a8_0242ac110049\" ><thead>    <tr>        <th class=\"index_name level0\" >DMDMARTLx</th>        <th class=\"col_heading level0 col0\" >Divorced</th>        <th class=\"col_heading level0 col1\" >Living w partner</th>        <th class=\"col_heading level0 col2\" >Married</th>        <th class=\"col_heading level0 col3\" >Never married</th>        <th class=\"col_heading level0 col4\" >Refused</th>        <th class=\"col_heading level0 col5\" >Separated</th>        <th class=\"col_heading level0 col6\" >Widowed</th>    </tr>    <tr>        <th class=\"index_name level0\" >agegrp</th>        <th class=\"blank\" ></th>        <th class=\"blank\" ></th>        <th class=\"blank\" ></th>        <th class=\"blank\" ></th>        <th class=\"blank\" ></th>        <th class=\"blank\" ></th>        <th class=\"blank\" ></th>    </tr></thead><tbody>\n",
       "                <tr>\n",
       "                        <th id=\"T_2f41b09c_a3b5_11ec_a3a8_0242ac110049level0_row0\" class=\"row_heading level0 row0\" >(15, 25]</th>\n",
       "                        <td id=\"T_2f41b09c_a3b5_11ec_a3a8_0242ac110049row0_col0\" class=\"data row0 col0\" >0.011</td>\n",
       "                        <td id=\"T_2f41b09c_a3b5_11ec_a3a8_0242ac110049row0_col1\" class=\"data row0 col1\" >0.198</td>\n",
       "                        <td id=\"T_2f41b09c_a3b5_11ec_a3a8_0242ac110049row0_col2\" class=\"data row0 col2\" >0.161</td>\n",
       "                        <td id=\"T_2f41b09c_a3b5_11ec_a3a8_0242ac110049row0_col3\" class=\"data row0 col3\" >0.601</td>\n",
       "                        <td id=\"T_2f41b09c_a3b5_11ec_a3a8_0242ac110049row0_col4\" class=\"data row0 col4\" >nan</td>\n",
       "                        <td id=\"T_2f41b09c_a3b5_11ec_a3a8_0242ac110049row0_col5\" class=\"data row0 col5\" >0.029</td>\n",
       "                        <td id=\"T_2f41b09c_a3b5_11ec_a3a8_0242ac110049row0_col6\" class=\"data row0 col6\" >nan</td>\n",
       "            </tr>\n",
       "            <tr>\n",
       "                        <th id=\"T_2f41b09c_a3b5_11ec_a3a8_0242ac110049level0_row1\" class=\"row_heading level0 row1\" >(25, 35]</th>\n",
       "                        <td id=\"T_2f41b09c_a3b5_11ec_a3a8_0242ac110049row1_col0\" class=\"data row1 col0\" >0.045</td>\n",
       "                        <td id=\"T_2f41b09c_a3b5_11ec_a3a8_0242ac110049row1_col1\" class=\"data row1 col1\" >0.184</td>\n",
       "                        <td id=\"T_2f41b09c_a3b5_11ec_a3a8_0242ac110049row1_col2\" class=\"data row1 col2\" >0.467</td>\n",
       "                        <td id=\"T_2f41b09c_a3b5_11ec_a3a8_0242ac110049row1_col3\" class=\"data row1 col3\" >0.283</td>\n",
       "                        <td id=\"T_2f41b09c_a3b5_11ec_a3a8_0242ac110049row1_col4\" class=\"data row1 col4\" >nan</td>\n",
       "                        <td id=\"T_2f41b09c_a3b5_11ec_a3a8_0242ac110049row1_col5\" class=\"data row1 col5\" >0.021</td>\n",
       "                        <td id=\"T_2f41b09c_a3b5_11ec_a3a8_0242ac110049row1_col6\" class=\"data row1 col6\" >nan</td>\n",
       "            </tr>\n",
       "            <tr>\n",
       "                        <th id=\"T_2f41b09c_a3b5_11ec_a3a8_0242ac110049level0_row2\" class=\"row_heading level0 row2\" >(35, 45]</th>\n",
       "                        <td id=\"T_2f41b09c_a3b5_11ec_a3a8_0242ac110049row2_col0\" class=\"data row2 col0\" >0.129</td>\n",
       "                        <td id=\"T_2f41b09c_a3b5_11ec_a3a8_0242ac110049row2_col1\" class=\"data row2 col1\" >0.091</td>\n",
       "                        <td id=\"T_2f41b09c_a3b5_11ec_a3a8_0242ac110049row2_col2\" class=\"data row2 col2\" >0.567</td>\n",
       "                        <td id=\"T_2f41b09c_a3b5_11ec_a3a8_0242ac110049row2_col3\" class=\"data row2 col3\" >0.149</td>\n",
       "                        <td id=\"T_2f41b09c_a3b5_11ec_a3a8_0242ac110049row2_col4\" class=\"data row2 col4\" >nan</td>\n",
       "                        <td id=\"T_2f41b09c_a3b5_11ec_a3a8_0242ac110049row2_col5\" class=\"data row2 col5\" >0.052</td>\n",
       "                        <td id=\"T_2f41b09c_a3b5_11ec_a3a8_0242ac110049row2_col6\" class=\"data row2 col6\" >0.012</td>\n",
       "            </tr>\n",
       "            <tr>\n",
       "                        <th id=\"T_2f41b09c_a3b5_11ec_a3a8_0242ac110049level0_row3\" class=\"row_heading level0 row3\" >(45, 55]</th>\n",
       "                        <td id=\"T_2f41b09c_a3b5_11ec_a3a8_0242ac110049row3_col0\" class=\"data row3 col0\" >0.169</td>\n",
       "                        <td id=\"T_2f41b09c_a3b5_11ec_a3a8_0242ac110049row3_col1\" class=\"data row3 col1\" >0.069</td>\n",
       "                        <td id=\"T_2f41b09c_a3b5_11ec_a3a8_0242ac110049row3_col2\" class=\"data row3 col2\" >0.542</td>\n",
       "                        <td id=\"T_2f41b09c_a3b5_11ec_a3a8_0242ac110049row3_col3\" class=\"data row3 col3\" >0.110</td>\n",
       "                        <td id=\"T_2f41b09c_a3b5_11ec_a3a8_0242ac110049row3_col4\" class=\"data row3 col4\" >nan</td>\n",
       "                        <td id=\"T_2f41b09c_a3b5_11ec_a3a8_0242ac110049row3_col5\" class=\"data row3 col5\" >0.061</td>\n",
       "                        <td id=\"T_2f41b09c_a3b5_11ec_a3a8_0242ac110049row3_col6\" class=\"data row3 col6\" >0.049</td>\n",
       "            </tr>\n",
       "            <tr>\n",
       "                        <th id=\"T_2f41b09c_a3b5_11ec_a3a8_0242ac110049level0_row4\" class=\"row_heading level0 row4\" >(55, 65]</th>\n",
       "                        <td id=\"T_2f41b09c_a3b5_11ec_a3a8_0242ac110049row4_col0\" class=\"data row4 col0\" >0.180</td>\n",
       "                        <td id=\"T_2f41b09c_a3b5_11ec_a3a8_0242ac110049row4_col1\" class=\"data row4 col1\" >0.047</td>\n",
       "                        <td id=\"T_2f41b09c_a3b5_11ec_a3a8_0242ac110049row4_col2\" class=\"data row4 col2\" >0.529</td>\n",
       "                        <td id=\"T_2f41b09c_a3b5_11ec_a3a8_0242ac110049row4_col3\" class=\"data row4 col3\" >0.107</td>\n",
       "                        <td id=\"T_2f41b09c_a3b5_11ec_a3a8_0242ac110049row4_col4\" class=\"data row4 col4\" >0.002</td>\n",
       "                        <td id=\"T_2f41b09c_a3b5_11ec_a3a8_0242ac110049row4_col5\" class=\"data row4 col5\" >0.049</td>\n",
       "                        <td id=\"T_2f41b09c_a3b5_11ec_a3a8_0242ac110049row4_col6\" class=\"data row4 col6\" >0.087</td>\n",
       "            </tr>\n",
       "            <tr>\n",
       "                        <th id=\"T_2f41b09c_a3b5_11ec_a3a8_0242ac110049level0_row5\" class=\"row_heading level0 row5\" >(65, 75]</th>\n",
       "                        <td id=\"T_2f41b09c_a3b5_11ec_a3a8_0242ac110049row5_col0\" class=\"data row5 col0\" >0.196</td>\n",
       "                        <td id=\"T_2f41b09c_a3b5_11ec_a3a8_0242ac110049row5_col1\" class=\"data row5 col1\" >0.028</td>\n",
       "                        <td id=\"T_2f41b09c_a3b5_11ec_a3a8_0242ac110049row5_col2\" class=\"data row5 col2\" >0.429</td>\n",
       "                        <td id=\"T_2f41b09c_a3b5_11ec_a3a8_0242ac110049row5_col3\" class=\"data row5 col3\" >0.053</td>\n",
       "                        <td id=\"T_2f41b09c_a3b5_11ec_a3a8_0242ac110049row5_col4\" class=\"data row5 col4\" >nan</td>\n",
       "                        <td id=\"T_2f41b09c_a3b5_11ec_a3a8_0242ac110049row5_col5\" class=\"data row5 col5\" >0.050</td>\n",
       "                        <td id=\"T_2f41b09c_a3b5_11ec_a3a8_0242ac110049row5_col6\" class=\"data row5 col6\" >0.244</td>\n",
       "            </tr>\n",
       "            <tr>\n",
       "                        <th id=\"T_2f41b09c_a3b5_11ec_a3a8_0242ac110049level0_row6\" class=\"row_heading level0 row6\" >(75, 85]</th>\n",
       "                        <td id=\"T_2f41b09c_a3b5_11ec_a3a8_0242ac110049row6_col0\" class=\"data row6 col0\" >0.096</td>\n",
       "                        <td id=\"T_2f41b09c_a3b5_11ec_a3a8_0242ac110049row6_col1\" class=\"data row6 col1\" >0.008</td>\n",
       "                        <td id=\"T_2f41b09c_a3b5_11ec_a3a8_0242ac110049row6_col2\" class=\"data row6 col2\" >0.292</td>\n",
       "                        <td id=\"T_2f41b09c_a3b5_11ec_a3a8_0242ac110049row6_col3\" class=\"data row6 col3\" >0.054</td>\n",
       "                        <td id=\"T_2f41b09c_a3b5_11ec_a3a8_0242ac110049row6_col4\" class=\"data row6 col4\" >nan</td>\n",
       "                        <td id=\"T_2f41b09c_a3b5_11ec_a3a8_0242ac110049row6_col5\" class=\"data row6 col5\" >0.012</td>\n",
       "                        <td id=\"T_2f41b09c_a3b5_11ec_a3a8_0242ac110049row6_col6\" class=\"data row6 col6\" >0.538</td>\n",
       "            </tr>\n",
       "    </tbody></table>"
      ],
      "text/plain": [
       "<pandas.io.formats.style.Styler at 0x7fdffc8ac630>"
      ]
     },
     "execution_count": 4,
     "metadata": {},
     "output_type": "execute_result"
    }
   ],
   "source": [
    "# insert your# Create agegrp by cutting RIDAGEYR into 10 year bands\n",
    "da['agegrp'] = pd.cut(da.RIDAGEYR, [15, 25, 35, 45, 55, 65, 75, 85])\n",
    "\n",
    "# Consider only women\n",
    "women = da[da['RIAGENDRx'] == 'Female']\n",
    "\n",
    "# Group on agegroup, count up results and normalize to percentages\n",
    "x = women.groupby('agegrp')['DMDMARTLx'].value_counts().unstack().apply(lambda x: x/x.sum(), axis=1)\n",
    "\n",
    "# pd.options.display.float_format = '{:,.2f}'.format\n",
    "x.style.format('{:.3f}')"
   ]
  },
  {
   "cell_type": "markdown",
   "metadata": {},
   "source": [
    "__Q2a.__ Comment on the trends that you see in this series of marginal distributions."
   ]
  },
  {
   "cell_type": "markdown",
   "metadata": {},
   "source": [
    "We see the \"Never married\" category decreasing *nearly* monotonically as women age. This is a reasonable sanity check, since it would never decrease for a specified set of women. Widowhood increases steadily as one might expect. The \"Married\" category is very roughly a bell curve peaking in the 35-45 group. "
   ]
  },
  {
   "cell_type": "markdown",
   "metadata": {},
   "source": [
    "__Q2b.__ Repeat the construction for males."
   ]
  },
  {
   "cell_type": "code",
   "execution_count": 5,
   "metadata": {},
   "outputs": [
    {
     "data": {
      "text/html": [
       "<style  type=\"text/css\" >\n",
       "</style><table id=\"T_2f450404_a3b5_11ec_a3a8_0242ac110049\" ><thead>    <tr>        <th class=\"index_name level0\" >DMDMARTLx</th>        <th class=\"col_heading level0 col0\" >Divorced</th>        <th class=\"col_heading level0 col1\" >Living w partner</th>        <th class=\"col_heading level0 col2\" >Married</th>        <th class=\"col_heading level0 col3\" >Never married</th>        <th class=\"col_heading level0 col4\" >Refused</th>        <th class=\"col_heading level0 col5\" >Separated</th>        <th class=\"col_heading level0 col6\" >Widowed</th>    </tr>    <tr>        <th class=\"index_name level0\" >agegrp</th>        <th class=\"blank\" ></th>        <th class=\"blank\" ></th>        <th class=\"blank\" ></th>        <th class=\"blank\" ></th>        <th class=\"blank\" ></th>        <th class=\"blank\" ></th>        <th class=\"blank\" ></th>    </tr></thead><tbody>\n",
       "                <tr>\n",
       "                        <th id=\"T_2f450404_a3b5_11ec_a3a8_0242ac110049level0_row0\" class=\"row_heading level0 row0\" >(15, 25]</th>\n",
       "                        <td id=\"T_2f450404_a3b5_11ec_a3a8_0242ac110049row0_col0\" class=\"data row0 col0\" >0.004</td>\n",
       "                        <td id=\"T_2f450404_a3b5_11ec_a3a8_0242ac110049row0_col1\" class=\"data row0 col1\" >0.135</td>\n",
       "                        <td id=\"T_2f450404_a3b5_11ec_a3a8_0242ac110049row0_col2\" class=\"data row0 col2\" >0.119</td>\n",
       "                        <td id=\"T_2f450404_a3b5_11ec_a3a8_0242ac110049row0_col3\" class=\"data row0 col3\" >0.734</td>\n",
       "                        <td id=\"T_2f450404_a3b5_11ec_a3a8_0242ac110049row0_col4\" class=\"data row0 col4\" >nan</td>\n",
       "                        <td id=\"T_2f450404_a3b5_11ec_a3a8_0242ac110049row0_col5\" class=\"data row0 col5\" >0.008</td>\n",
       "                        <td id=\"T_2f450404_a3b5_11ec_a3a8_0242ac110049row0_col6\" class=\"data row0 col6\" >nan</td>\n",
       "            </tr>\n",
       "            <tr>\n",
       "                        <th id=\"T_2f450404_a3b5_11ec_a3a8_0242ac110049level0_row1\" class=\"row_heading level0 row1\" >(25, 35]</th>\n",
       "                        <td id=\"T_2f450404_a3b5_11ec_a3a8_0242ac110049row1_col0\" class=\"data row1 col0\" >0.019</td>\n",
       "                        <td id=\"T_2f450404_a3b5_11ec_a3a8_0242ac110049row1_col1\" class=\"data row1 col1\" >0.212</td>\n",
       "                        <td id=\"T_2f450404_a3b5_11ec_a3a8_0242ac110049row1_col2\" class=\"data row1 col2\" >0.458</td>\n",
       "                        <td id=\"T_2f450404_a3b5_11ec_a3a8_0242ac110049row1_col3\" class=\"data row1 col3\" >0.287</td>\n",
       "                        <td id=\"T_2f450404_a3b5_11ec_a3a8_0242ac110049row1_col4\" class=\"data row1 col4\" >nan</td>\n",
       "                        <td id=\"T_2f450404_a3b5_11ec_a3a8_0242ac110049row1_col5\" class=\"data row1 col5\" >0.017</td>\n",
       "                        <td id=\"T_2f450404_a3b5_11ec_a3a8_0242ac110049row1_col6\" class=\"data row1 col6\" >0.006</td>\n",
       "            </tr>\n",
       "            <tr>\n",
       "                        <th id=\"T_2f450404_a3b5_11ec_a3a8_0242ac110049level0_row2\" class=\"row_heading level0 row2\" >(35, 45]</th>\n",
       "                        <td id=\"T_2f450404_a3b5_11ec_a3a8_0242ac110049row2_col0\" class=\"data row2 col0\" >0.064</td>\n",
       "                        <td id=\"T_2f450404_a3b5_11ec_a3a8_0242ac110049row2_col1\" class=\"data row2 col1\" >0.137</td>\n",
       "                        <td id=\"T_2f450404_a3b5_11ec_a3a8_0242ac110049row2_col2\" class=\"data row2 col2\" >0.627</td>\n",
       "                        <td id=\"T_2f450404_a3b5_11ec_a3a8_0242ac110049row2_col3\" class=\"data row2 col3\" >0.130</td>\n",
       "                        <td id=\"T_2f450404_a3b5_11ec_a3a8_0242ac110049row2_col4\" class=\"data row2 col4\" >0.002</td>\n",
       "                        <td id=\"T_2f450404_a3b5_11ec_a3a8_0242ac110049row2_col5\" class=\"data row2 col5\" >0.034</td>\n",
       "                        <td id=\"T_2f450404_a3b5_11ec_a3a8_0242ac110049row2_col6\" class=\"data row2 col6\" >0.005</td>\n",
       "            </tr>\n",
       "            <tr>\n",
       "                        <th id=\"T_2f450404_a3b5_11ec_a3a8_0242ac110049level0_row3\" class=\"row_heading level0 row3\" >(45, 55]</th>\n",
       "                        <td id=\"T_2f450404_a3b5_11ec_a3a8_0242ac110049row3_col0\" class=\"data row3 col0\" >0.113</td>\n",
       "                        <td id=\"T_2f450404_a3b5_11ec_a3a8_0242ac110049row3_col1\" class=\"data row3 col1\" >0.071</td>\n",
       "                        <td id=\"T_2f450404_a3b5_11ec_a3a8_0242ac110049row3_col2\" class=\"data row3 col2\" >0.687</td>\n",
       "                        <td id=\"T_2f450404_a3b5_11ec_a3a8_0242ac110049row3_col3\" class=\"data row3 col3\" >0.094</td>\n",
       "                        <td id=\"T_2f450404_a3b5_11ec_a3a8_0242ac110049row3_col4\" class=\"data row3 col4\" >nan</td>\n",
       "                        <td id=\"T_2f450404_a3b5_11ec_a3a8_0242ac110049row3_col5\" class=\"data row3 col5\" >0.025</td>\n",
       "                        <td id=\"T_2f450404_a3b5_11ec_a3a8_0242ac110049row3_col6\" class=\"data row3 col6\" >0.009</td>\n",
       "            </tr>\n",
       "            <tr>\n",
       "                        <th id=\"T_2f450404_a3b5_11ec_a3a8_0242ac110049level0_row4\" class=\"row_heading level0 row4\" >(55, 65]</th>\n",
       "                        <td id=\"T_2f450404_a3b5_11ec_a3a8_0242ac110049row4_col0\" class=\"data row4 col0\" >0.143</td>\n",
       "                        <td id=\"T_2f450404_a3b5_11ec_a3a8_0242ac110049row4_col1\" class=\"data row4 col1\" >0.054</td>\n",
       "                        <td id=\"T_2f450404_a3b5_11ec_a3a8_0242ac110049row4_col2\" class=\"data row4 col2\" >0.636</td>\n",
       "                        <td id=\"T_2f450404_a3b5_11ec_a3a8_0242ac110049row4_col3\" class=\"data row4 col3\" >0.105</td>\n",
       "                        <td id=\"T_2f450404_a3b5_11ec_a3a8_0242ac110049row4_col4\" class=\"data row4 col4\" >nan</td>\n",
       "                        <td id=\"T_2f450404_a3b5_11ec_a3a8_0242ac110049row4_col5\" class=\"data row4 col5\" >0.028</td>\n",
       "                        <td id=\"T_2f450404_a3b5_11ec_a3a8_0242ac110049row4_col6\" class=\"data row4 col6\" >0.034</td>\n",
       "            </tr>\n",
       "            <tr>\n",
       "                        <th id=\"T_2f450404_a3b5_11ec_a3a8_0242ac110049level0_row5\" class=\"row_heading level0 row5\" >(65, 75]</th>\n",
       "                        <td id=\"T_2f450404_a3b5_11ec_a3a8_0242ac110049row5_col0\" class=\"data row5 col0\" >0.140</td>\n",
       "                        <td id=\"T_2f450404_a3b5_11ec_a3a8_0242ac110049row5_col1\" class=\"data row5 col1\" >0.047</td>\n",
       "                        <td id=\"T_2f450404_a3b5_11ec_a3a8_0242ac110049row5_col2\" class=\"data row5 col2\" >0.656</td>\n",
       "                        <td id=\"T_2f450404_a3b5_11ec_a3a8_0242ac110049row5_col3\" class=\"data row5 col3\" >0.047</td>\n",
       "                        <td id=\"T_2f450404_a3b5_11ec_a3a8_0242ac110049row5_col4\" class=\"data row5 col4\" >nan</td>\n",
       "                        <td id=\"T_2f450404_a3b5_11ec_a3a8_0242ac110049row5_col5\" class=\"data row5 col5\" >0.047</td>\n",
       "                        <td id=\"T_2f450404_a3b5_11ec_a3a8_0242ac110049row5_col6\" class=\"data row5 col6\" >0.064</td>\n",
       "            </tr>\n",
       "            <tr>\n",
       "                        <th id=\"T_2f450404_a3b5_11ec_a3a8_0242ac110049level0_row6\" class=\"row_heading level0 row6\" >(75, 85]</th>\n",
       "                        <td id=\"T_2f450404_a3b5_11ec_a3a8_0242ac110049row6_col0\" class=\"data row6 col0\" >0.115</td>\n",
       "                        <td id=\"T_2f450404_a3b5_11ec_a3a8_0242ac110049row6_col1\" class=\"data row6 col1\" >0.016</td>\n",
       "                        <td id=\"T_2f450404_a3b5_11ec_a3a8_0242ac110049row6_col2\" class=\"data row6 col2\" >0.619</td>\n",
       "                        <td id=\"T_2f450404_a3b5_11ec_a3a8_0242ac110049row6_col3\" class=\"data row6 col3\" >0.024</td>\n",
       "                        <td id=\"T_2f450404_a3b5_11ec_a3a8_0242ac110049row6_col4\" class=\"data row6 col4\" >nan</td>\n",
       "                        <td id=\"T_2f450404_a3b5_11ec_a3a8_0242ac110049row6_col5\" class=\"data row6 col5\" >0.016</td>\n",
       "                        <td id=\"T_2f450404_a3b5_11ec_a3a8_0242ac110049row6_col6\" class=\"data row6 col6\" >0.210</td>\n",
       "            </tr>\n",
       "    </tbody></table>"
      ],
      "text/plain": [
       "<pandas.io.formats.style.Styler at 0x7fdffc932668>"
      ]
     },
     "execution_count": 5,
     "metadata": {},
     "output_type": "execute_result"
    }
   ],
   "source": [
    "# Consider only men\n",
    "men = da[da['RIAGENDRx'] == 'Male']\n",
    "\n",
    "# Group on agegroup, count up results and normalize to percentages\n",
    "x = men.groupby('agegrp')['DMDMARTLx'].value_counts().unstack().apply(lambda x: x/x.sum(), axis=1)\n",
    "\n",
    "x.style.format('{:.3f}')"
   ]
  },
  {
   "cell_type": "markdown",
   "metadata": {},
   "source": [
    "__Q2c.__ Comment on any notable differences that you see when comparing these results for females and for males."
   ]
  },
  {
   "cell_type": "markdown",
   "metadata": {},
   "source": [
    "The peak age group for men to be married is later than for women (45-55 vs 35-45). Men are much more likely than women to be married later in life, and they are much less likely to be widowed later in life compared with women. We might speculate that men dying earlier accounts for much of the difference."
   ]
  },
  {
   "cell_type": "markdown",
   "metadata": {},
   "source": [
    "## Question 3\n",
    "\n",
    "Construct a histogram of the distribution of heights using the BMXHT variable in the NHANES sample."
   ]
  },
  {
   "cell_type": "code",
   "execution_count": 6,
   "metadata": {},
   "outputs": [
    {
     "data": {
      "text/plain": [
       "<matplotlib.axes._subplots.AxesSubplot at 0x7fdff7e33588>"
      ]
     },
     "execution_count": 6,
     "metadata": {},
     "output_type": "execute_result"
    },
    {
     "data": {
      "image/png": "[encoded data removed]",
      "text/plain": [
       "<Figure size 432x288 with 1 Axes>"
      ]
     },
     "metadata": {},
     "output_type": "display_data"
    }
   ],
   "source": [
    "# Default basic histogram on BMXHT\n",
    "# More modern version:\n",
    "# sns.histplot(da['BMXHT'])\n",
    "sns.distplot(da['BMXHT'].dropna(), kde=False)"
   ]
  },
  {
   "cell_type": "markdown",
   "metadata": {},
   "source": [
    "__Q3a.__ Use the `bins` argument to [distplot](https://seaborn.pydata.org/generated/seaborn.distplot.html) to produce histograms with different numbers of bins.  Assess whether the default value for this argument gives a meaningful result, and comment on what happens as the number of bins grows excessively large or excessively small. "
   ]
  },
  {
   "cell_type": "markdown",
   "metadata": {},
   "source": [
    "### Excessively small number of bins\n",
    "An overly small number of bins hides details. We see the very very rough distribution, but outliers are lost.\n",
    "\n",
    "### Exceessively large number of bins\n",
    "An overly large number of bins hides trends. We see too much detail to comprehend the dataset quickly. Peaks and valleys due to rounding of measurements are evident."
   ]
  },
  {
   "cell_type": "code",
   "execution_count": 7,
   "metadata": {},
   "outputs": [
    {
     "data": {
      "image/png": "[encoded data removed]",
      "text/plain": [
       "<Figure size 432x288 with 1 Axes>"
      ]
     },
     "metadata": {},
     "output_type": "display_data"
    },
    {
     "data": {
      "image/png": "[encoded data removed]",
      "text/plain": [
       "<Figure size 432x288 with 1 Axes>"
      ]
     },
     "metadata": {},
     "output_type": "display_data"
    },
    {
     "data": {
      "image/png": "[encoded data removed]",
      "text/plain": [
       "<Figure size 432x288 with 1 Axes>"
      ]
     },
     "metadata": {},
     "output_type": "display_data"
    },
    {
     "data": {
      "image/png": "[encoded data removed]",
      "text/plain": [
       "<Figure size 432x288 with 1 Axes>"
      ]
     },
     "metadata": {},
     "output_type": "display_data"
    },
    {
     "data": {
      "image/png": "[encoded data removed]",
      "text/plain": [
       "<Figure size 432x288 with 1 Axes>"
      ]
     },
     "metadata": {},
     "output_type": "display_data"
    },
    {
     "data": {
      "image/png": "[encoded data removed]",
      "text/plain": [
       "<Figure size 432x288 with 1 Axes>"
      ]
     },
     "metadata": {},
     "output_type": "display_data"
    },
    {
     "data": {
      "image/png": "[encoded data removed]",
      "text/plain": [
       "<Figure size 432x288 with 1 Axes>"
      ]
     },
     "metadata": {},
     "output_type": "display_data"
    },
    {
     "data": {
      "image/png": "[encoded data removed]",
      "text/plain": [
       "<Figure size 432x288 with 1 Axes>"
      ]
     },
     "metadata": {},
     "output_type": "display_data"
    },
    {
     "data": {
      "image/png": "[encoded data removed]",
      "text/plain": [
       "<Figure size 432x288 with 1 Axes>"
      ]
     },
     "metadata": {},
     "output_type": "display_data"
    },
    {
     "data": {
      "image/png": "[encoded data removed]",
      "text/plain": [
       "<Figure size 432x288 with 1 Axes>"
      ]
     },
     "metadata": {},
     "output_type": "display_data"
    },
    {
     "data": {
      "image/png": "[encoded data removed]",
      "text/plain": [
       "<Figure size 432x288 with 1 Axes>"
      ]
     },
     "metadata": {},
     "output_type": "display_data"
    },
    {
     "data": {
      "image/png": "[encoded data removed]",
      "text/plain": [
       "<Figure size 432x288 with 1 Axes>"
      ]
     },
     "metadata": {},
     "output_type": "display_data"
    },
    {
     "data": {
      "image/png": "[encoded data removed]",
      "text/plain": [
       "<Figure size 432x288 with 1 Axes>"
      ]
     },
     "metadata": {},
     "output_type": "display_data"
    }
   ],
   "source": [
    "# oldschool\n",
    "# Very small number of bins\n",
    "for i in range(3, 8, 2):\n",
    "    sns.distplot(da['BMXHT'].dropna(), kde=False, bins=i).set_title('Heights with {} bins'.format(i))\n",
    "    plt.show()\n",
    "\n",
    "# Very large number of bins\n",
    "for i in range(50, 300, 25):\n",
    "    sns.distplot(da['BMXHT'].dropna(), kde=False, bins=i).set_title('Heights with {} bins'.format(i))\n",
    "    plt.show()\n"
   ]
  },
  {
   "cell_type": "markdown",
   "metadata": {},
   "source": [
    "__Q3b.__ Make separate histograms for the heights of women and men, then make a side-by-side boxplot showing the heights of women and men."
   ]
  },
  {
   "cell_type": "code",
   "execution_count": 8,
   "metadata": {},
   "outputs": [
    {
     "data": {
      "image/png": "[encoded data removed]",
      "text/plain": [
       "<Figure size 432x288 with 1 Axes>"
      ]
     },
     "metadata": {},
     "output_type": "display_data"
    },
    {
     "data": {
      "image/png": "[encoded data removed]",
      "text/plain": [
       "<Figure size 432x288 with 1 Axes>"
      ]
     },
     "metadata": {},
     "output_type": "display_data"
    },
    {
     "data": {
      "image/png": "[encoded data removed]",
      "text/plain": [
       "<Figure size 432x288 with 1 Axes>"
      ]
     },
     "metadata": {},
     "output_type": "display_data"
    }
   ],
   "source": [
    "# Histograms for men and women separately (but same range for easy comparison)\n",
    "women = da[da['RIAGENDRx'] == 'Female'].dropna()\n",
    "h = sns.distplot(women.loc[:,['BMXHT']])\n",
    "plt.show()\n",
    "\n",
    "men = da[da['RIAGENDRx'] == 'Male'].dropna()\n",
    "h = sns.distplot(men.loc[:,['BMXHT']])\n",
    "plt.show()\n",
    "\n",
    "bp = sns.boxplot(data=da, x='RIAGENDRx', y='BMXHT')"
   ]
  },
  {
   "cell_type": "markdown",
   "metadata": {},
   "source": [
    "__Q3c.__ Comment on what features, if any are not represented clearly in the boxplots, and what features, if any, are easier to see in the boxplots than in the histograms."
   ]
  },
  {
   "cell_type": "raw",
   "metadata": {},
   "source": [
    "The histograms, by default, have separate ranges for men and women. We may compare their shape readily, but it does not provide a simple comparison of which has larger values.\n",
    "\n",
    "The boxplots, in contrast, make it easy to observe that men are taller (higher mean, min, max, quartiles, etc). But they provide less context about whether the heights have similar distributions."
   ]
  },
  {
   "cell_type": "markdown",
   "metadata": {},
   "source": [
    "## Question 4\n",
    "\n",
    "Make a boxplot showing the distribution of within-subject differences between the first and second systolic blood pressure measurents ([BPXSY1](https://wwwn.cdc.gov/Nchs/Nhanes/2015-2016/BPX_I.htm#BPXSY1) and [BPXSY2](https://wwwn.cdc.gov/Nchs/Nhanes/2015-2016/BPX_I.htm#BPXSY2))."
   ]
  },
  {
   "cell_type": "code",
   "execution_count": 9,
   "metadata": {},
   "outputs": [
    {
     "data": {
      "text/plain": [
       "Text(0.5,1,'Change in Systolic Blood Pressure from 1st reading to 2nd reading (mm Hg)')"
      ]
     },
     "execution_count": 9,
     "metadata": {},
     "output_type": "execute_result"
    },
    {
     "data": {
      "image/png": "[encoded data removed]",
      "text/plain": [
       "<Figure size 432x288 with 1 Axes>"
      ]
     },
     "metadata": {},
     "output_type": "display_data"
    }
   ],
   "source": [
    "# calculate the difference between BPXSY1 and BPXSY2\n",
    "# unit is \"mm Hg\"\n",
    "da['BPX_SY_2_1'] = da.BPXSY2 - da.BPXSY1\n",
    "sns.boxplot(y=da.BPX_SY_2_1).set_title('Change in Systolic Blood Pressure from 1st reading to 2nd reading (mm Hg)')"
   ]
  },
  {
   "cell_type": "markdown",
   "metadata": {},
   "source": [
    "__Q4a.__ What proportion of the subjects have a lower SBP on the second reading compared to the first?"
   ]
  },
  {
   "cell_type": "code",
   "execution_count": 10,
   "metadata": {},
   "outputs": [
    {
     "data": {
      "text/plain": [
       "count    5369.000000\n",
       "mean       -0.674986\n",
       "std         5.046465\n",
       "min       -32.000000\n",
       "25%        -4.000000\n",
       "50%         0.000000\n",
       "75%         2.000000\n",
       "max        26.000000\n",
       "Name: BPX_SY_2_1, dtype: float64"
      ]
     },
     "execution_count": 10,
     "metadata": {},
     "output_type": "execute_result"
    }
   ],
   "source": [
    "# The boxplot above indicates that the median value is approximately 0, \n",
    "# meaning exactly half of respondants increased and half decreased.\n",
    "# Next we confirm this quantitatively.\n",
    "# Note that the median is indeed 0.00000\n",
    "da.BPX_SY_2_1.describe()"
   ]
  },
  {
   "cell_type": "markdown",
   "metadata": {},
   "source": [
    "__Q4b.__ Make side-by-side boxplots of the two systolic blood pressure variables."
   ]
  },
  {
   "cell_type": "code",
   "execution_count": 11,
   "metadata": {},
   "outputs": [
    {
     "data": {
      "image/png": "[encoded data removed]",
      "text/plain": [
       "<Figure size 432x288 with 1 Axes>"
      ]
     },
     "metadata": {},
     "output_type": "display_data"
    }
   ],
   "source": [
    "p = sns.boxplot(data=da.loc[:,['BPXSY1', 'BPXSY2']])\n",
    "p.set(ylabel='mm Hg')\n",
    "p.set_title('First and Second Systolic BP readings for all respondents')\n",
    "plt.show()"
   ]
  },
  {
   "cell_type": "markdown",
   "metadata": {},
   "source": [
    "__Q4c.__ Comment on the variation within either the first or second systolic blood pressure measurements, and the variation in the within-subject differences between the first and second systolic blood pressure measurements."
   ]
  },
  {
   "cell_type": "markdown",
   "metadata": {},
   "source": [
    "### variation within individual readings\n",
    "Of note is that all outliers are above the 3rd quartile rather than below the first. High blood pressure outliers are relatively common, while low pressure outliers do not appear to exist.\n",
    "\n",
    "### variation between readings\n",
    "The two plots are very similar. On average there is no significant change from the first reading to the second reading."
   ]
  },
  {
   "cell_type": "markdown",
   "metadata": {},
   "source": [
    "## Question 5\n",
    "\n",
    "Construct a frequency table of household sizes for people within each educational attainment category (the relevant variable is [DMDEDUC2](https://wwwn.cdc.gov/Nchs/Nhanes/2015-2016/DEMO_I.htm#DMDEDUC2)).  Convert the frequencies to proportions."
   ]
  },
  {
   "cell_type": "code",
   "execution_count": 12,
   "metadata": {},
   "outputs": [
    {
     "name": "stdout",
     "output_type": "stream",
     "text": [
      "Household Size          1         2         3         4         5         6         7\n",
      "Education Level                                                                      \n",
      "<9               0.109924  0.224427  0.146565  0.132824  0.148092  0.108397  0.129771\n",
      "9-11             0.116641  0.222395  0.163297  0.152411  0.146190  0.113530  0.085537\n",
      "HS/GED           0.152614  0.270658  0.171164  0.161889  0.109612  0.065767  0.068297\n",
      "Some college/AA  0.151141  0.268970  0.193091  0.169031  0.122147  0.050586  0.045034\n",
      "College          0.142753  0.347731  0.193997  0.165447  0.095168  0.029283  0.025622\n",
      "Don't know            NaN  0.666667       NaN       NaN  0.333333       NaN       NaN\n"
     ]
    }
   ],
   "source": [
    "d = {\n",
    "      1: \"<9\"\n",
    "    , 2: \"9-11\"\n",
    "    , 3: \"HS/GED\"\n",
    "    , 4: \"Some college/AA\"\n",
    "    , 5: \"College\"\n",
    "    , 7: \"Refused\"\n",
    "    , 9: \"Don't know\"\n",
    "}\n",
    "dx = da.groupby(['DMDEDUC2'])['DMDHHSIZ'].value_counts(normalize=True)\n",
    "# dx = dx\n",
    "dx = dx.unstack()\n",
    "dx.index = dx.index.map(d).rename('Education Level')\n",
    "dx = dx.rename_axis('Household Size', axis=1)\n",
    "print(dx)"
   ]
  },
  {
   "cell_type": "markdown",
   "metadata": {},
   "source": [
    "__Q5a.__ Comment on any major differences among the distributions."
   ]
  },
  {
   "cell_type": "markdown",
   "metadata": {},
   "source": [
    "We see that large family sizes are far more common in families with lower education levels.\n",
    "A household size of 7 occurs about 57% as often as a household size of 2 for people with an education level below 9th grade. In contrast a household size of 7 occurs about 7% as often as a household size of 2 for people with a college education.\n",
    "A household size of 2 appears to be the most common across all education levels. "
   ]
  },
  {
   "cell_type": "markdown",
   "metadata": {},
   "source": [
    "__Q5b.__ Restrict the sample to people between 30 and 40 years of age.  Then calculate the median household size for women and men within each level of educational attainment."
   ]
  },
  {
   "cell_type": "code",
   "execution_count": 13,
   "metadata": {},
   "outputs": [
    {
     "data": {
      "text/html": [
       "<style  type=\"text/css\" >\n",
       "</style><table id=\"T_36b42260_a3b5_11ec_a3a8_0242ac110049\" ><thead>    <tr>        <th class=\"index_name level0\" >Household size</th>        <th class=\"col_heading level0 col0\" colspan=2>DMDHHSIZ</th>    </tr>    <tr>        <th class=\"index_name level1\" >Gender</th>        <th class=\"col_heading level1 col0\" >Female</th>        <th class=\"col_heading level1 col1\" >Male</th>    </tr>    <tr>        <th class=\"index_name level0\" >Education Level</th>        <th class=\"blank\" ></th>        <th class=\"blank\" ></th>    </tr></thead><tbody>\n",
       "                <tr>\n",
       "                        <th id=\"T_36b42260_a3b5_11ec_a3a8_0242ac110049level0_row0\" class=\"row_heading level0 row0\" ><9</th>\n",
       "                        <td id=\"T_36b42260_a3b5_11ec_a3a8_0242ac110049row0_col0\" class=\"data row0 col0\" >5</td>\n",
       "                        <td id=\"T_36b42260_a3b5_11ec_a3a8_0242ac110049row0_col1\" class=\"data row0 col1\" >5</td>\n",
       "            </tr>\n",
       "            <tr>\n",
       "                        <th id=\"T_36b42260_a3b5_11ec_a3a8_0242ac110049level0_row1\" class=\"row_heading level0 row1\" >9-11</th>\n",
       "                        <td id=\"T_36b42260_a3b5_11ec_a3a8_0242ac110049row1_col0\" class=\"data row1 col0\" >5</td>\n",
       "                        <td id=\"T_36b42260_a3b5_11ec_a3a8_0242ac110049row1_col1\" class=\"data row1 col1\" >4.5</td>\n",
       "            </tr>\n",
       "            <tr>\n",
       "                        <th id=\"T_36b42260_a3b5_11ec_a3a8_0242ac110049level0_row2\" class=\"row_heading level0 row2\" >HS/GED</th>\n",
       "                        <td id=\"T_36b42260_a3b5_11ec_a3a8_0242ac110049row2_col0\" class=\"data row2 col0\" >5</td>\n",
       "                        <td id=\"T_36b42260_a3b5_11ec_a3a8_0242ac110049row2_col1\" class=\"data row2 col1\" >4</td>\n",
       "            </tr>\n",
       "            <tr>\n",
       "                        <th id=\"T_36b42260_a3b5_11ec_a3a8_0242ac110049level0_row3\" class=\"row_heading level0 row3\" >Some college/AA</th>\n",
       "                        <td id=\"T_36b42260_a3b5_11ec_a3a8_0242ac110049row3_col0\" class=\"data row3 col0\" >4</td>\n",
       "                        <td id=\"T_36b42260_a3b5_11ec_a3a8_0242ac110049row3_col1\" class=\"data row3 col1\" >4</td>\n",
       "            </tr>\n",
       "            <tr>\n",
       "                        <th id=\"T_36b42260_a3b5_11ec_a3a8_0242ac110049level0_row4\" class=\"row_heading level0 row4\" >College</th>\n",
       "                        <td id=\"T_36b42260_a3b5_11ec_a3a8_0242ac110049row4_col0\" class=\"data row4 col0\" >3</td>\n",
       "                        <td id=\"T_36b42260_a3b5_11ec_a3a8_0242ac110049row4_col1\" class=\"data row4 col1\" >3</td>\n",
       "            </tr>\n",
       "    </tbody></table>"
      ],
      "text/plain": [
       "<pandas.io.formats.style.Styler at 0x7fdff5313780>"
      ]
     },
     "execution_count": 13,
     "metadata": {},
     "output_type": "execute_result"
    }
   ],
   "source": [
    "# Median household size for Women and Men by Education Level\n",
    "df = da.loc[((da['RIDAGEYR']>=30) & (da['RIDAGEYR']<=40)),['DMDHHSIZ','RIAGENDRx','DMDEDUC2']].groupby(['DMDEDUC2','RIAGENDRx']).median().unstack()\n",
    "df.index = df.index.map(d).rename('Education Level')\n",
    "df = df.rename_axis(['Household size','Gender'], axis=1)\n",
    "df.style"
   ]
  },
  {
   "cell_type": "markdown",
   "metadata": {},
   "source": [
    "## Question 6\n",
    "\n",
    "The participants can be clustered into \"maked variance units\" (MVU) based on every combination of the variables [SDMVSTRA](https://wwwn.cdc.gov/Nchs/Nhanes/2015-2016/DEMO_I.htm#SDMVSTRA) and [SDMVPSU](https://wwwn.cdc.gov/Nchs/Nhanes/2015-2016/DEMO_I.htm#SDMVPSU).  Calculate the mean age ([RIDAGEYR](https://wwwn.cdc.gov/Nchs/Nhanes/2015-2016/DEMO_I.htm#RIDAGEYR)), height ([BMXHT](https://wwwn.cdc.gov/Nchs/Nhanes/2015-2016/BMX_I.htm#BMXHT)), and BMI ([BMXBMI](https://wwwn.cdc.gov/Nchs/Nhanes/2015-2016/BMX_I.htm#BMXBMI)) for each gender ([RIAGENDR](https://wwwn.cdc.gov/Nchs/Nhanes/2015-2016/DEMO_I.htm#RIAGENDR)), within each MVU, and report the ratio between the largest and smallest mean (e.g. for height) across the MVUs."
   ]
  },
  {
   "cell_type": "code",
   "execution_count": 14,
   "metadata": {},
   "outputs": [
    {
     "name": "stdout",
     "output_type": "stream",
     "text": [
      "                             RIDAGEYR       BMXHT     BMXBMI\n",
      "SDMVSTRA SDMVPSU RIAGENDRx                                  \n",
      "119      1       Female     47.663265  159.570408  30.052041\n",
      "                 Male       47.861111  172.741667  26.958333\n",
      "         2       Female     52.987952  159.244578  27.849398\n",
      "                 Male       54.363636  172.906818  27.160465\n",
      "120      1       Female     43.636364  155.402041  32.419388\n",
      "                 Male       43.130000  169.537755  30.939175\n",
      "         2       Female     43.736111  159.218056  27.400000\n",
      "                 Male       45.219178  173.075342  27.727397\n",
      "121      1       Female     44.397959  158.871579  30.856842\n",
      "                 Male       46.750000  172.177885  29.416505\n",
      "         2       Female     44.376344  160.229032  26.470968\n",
      "                 Male       42.063158  174.764516  26.273118\n",
      "122      1       Female     42.897436  161.315385  29.447436\n",
      "                 Male       44.653061  173.998969  28.528866\n",
      "         2       Female     47.333333  157.231111  26.611111\n",
      "                 Male       44.320000  170.332323  25.744444\n",
      "123      1       Female     44.841121  162.059615  29.905769\n",
      "                 Male       47.829787  174.315217  29.231522\n",
      "         2       Female     46.457447  160.476596  30.641489\n",
      "                 Male       52.126582  174.454430  28.811392\n",
      "124      1       Female     51.664000  158.788710  29.533065\n",
      "                 Male       50.750000  172.109009  28.614414\n",
      "         2       Female     42.541667  162.853521  28.640845\n",
      "                 Male       48.245614  174.291228  27.714035\n",
      "125      1       Female     50.900901  160.762385  30.385321\n",
      "                 Male       55.165289  173.631092  29.727731\n",
      "         2       Female     51.660000  160.021429  28.564286\n",
      "                 Male       49.705882  174.456863  29.143564\n",
      "126      1       Female     46.229167  160.387500  31.262500\n",
      "                 Male       48.416667  175.149398  29.033333\n",
      "         2       Female     47.205882  160.892000  29.612121\n",
      "                 Male       48.666667  174.713043  29.039130\n",
      "127      1       Female     49.694444  157.422430  32.189720\n",
      "                 Male       53.137931  171.545349  31.062353\n",
      "         2       Female     51.486239  159.022936  30.770642\n",
      "                 Male       54.070588  173.366667  30.557831\n",
      "128      1       Female     55.638462  156.339062  32.303125\n",
      "                 Male       53.673267  169.325000  31.749000\n",
      "         2       Female     45.589744  160.437179  27.491026\n",
      "                 Male       45.822785  172.400000  26.835443\n",
      "129      1       Female     45.329787  156.900000  29.019149\n",
      "                 Male       43.922222  171.094318  26.493182\n",
      "         2       Female     43.500000  161.034259  29.429630\n",
      "                 Male       45.775510  173.138298  28.961702\n",
      "130      1       Female     47.810526  161.977895  30.700000\n",
      "                 Male       50.516854  176.974157  30.337079\n",
      "         2       Female     50.833333  160.060577  31.490385\n",
      "                 Male       50.535354  175.061224  29.237755\n",
      "131      1       Female     54.893617  161.989362  30.061702\n",
      "                 Male       53.140187  175.610476  28.259615\n",
      "         2       Female     45.000000  161.673810  32.984127\n",
      "                 Male       46.778846  175.091346  30.077885\n",
      "132      1       Female     43.210526  161.508421  29.848421\n",
      "                 Male       42.380435  172.534066  28.546154\n",
      "         2       Female     51.700000  159.138281  30.540625\n",
      "                 Male       49.038760  172.809524  28.966667\n",
      "133      1       Female     45.105882  158.295122  27.959259\n",
      "                 Male       44.054795  171.509722  27.495833\n",
      "         2       Female     47.063158  158.627368  29.000000\n",
      "                 Male       47.489796  171.179167  27.966667\n"
     ]
    },
    {
     "data": {
      "text/html": [
       "<div>\n",
       "<style scoped>\n",
       "    .dataframe tbody tr th:only-of-type {\n",
       "        vertical-align: middle;\n",
       "    }\n",
       "\n",
       "    .dataframe tbody tr th {\n",
       "        vertical-align: top;\n",
       "    }\n",
       "\n",
       "    .dataframe thead th {\n",
       "        text-align: right;\n",
       "    }\n",
       "</style>\n",
       "<table border=\"1\" class=\"dataframe\">\n",
       "  <thead>\n",
       "    <tr style=\"text-align: right;\">\n",
       "      <th></th>\n",
       "      <th>MVU Min</th>\n",
       "      <th>MVU Max</th>\n",
       "      <th>Ratio</th>\n",
       "    </tr>\n",
       "  </thead>\n",
       "  <tbody>\n",
       "    <tr>\n",
       "      <th>RIDAGEYR</th>\n",
       "      <td>42.063158</td>\n",
       "      <td>55.638462</td>\n",
       "      <td>0.756009</td>\n",
       "    </tr>\n",
       "    <tr>\n",
       "      <th>BMXHT</th>\n",
       "      <td>155.402041</td>\n",
       "      <td>176.974157</td>\n",
       "      <td>0.878106</td>\n",
       "    </tr>\n",
       "    <tr>\n",
       "      <th>BMXBMI</th>\n",
       "      <td>25.744444</td>\n",
       "      <td>32.984127</td>\n",
       "      <td>0.780510</td>\n",
       "    </tr>\n",
       "  </tbody>\n",
       "</table>\n",
       "</div>"
      ],
      "text/plain": [
       "             MVU Min     MVU Max     Ratio\n",
       "RIDAGEYR   42.063158   55.638462  0.756009\n",
       "BMXHT     155.402041  176.974157  0.878106\n",
       "BMXBMI     25.744444   32.984127  0.780510"
      ]
     },
     "execution_count": 14,
     "metadata": {},
     "output_type": "execute_result"
    }
   ],
   "source": [
    "da_6 = da.groupby(['SDMVSTRA','SDMVPSU','RIAGENDRx']).mean()\n",
    "\n",
    "# Means for all MVUs\n",
    "print(da_6.loc[:,['RIDAGEYR','BMXHT','BMXBMI']])\n",
    "\n",
    "df = pd.DataFrame()\n",
    "df['MVU Min'] = da_6.loc[:,['RIDAGEYR','BMXHT','BMXBMI']].min()\n",
    "df['MVU Max'] = da_6.loc[:,['RIDAGEYR','BMXHT','BMXBMI']].max()\n",
    "df['Ratio'] = df['MVU Min'] / df['MVU Max']\n",
    "df"
   ]
  },
  {
   "cell_type": "markdown",
   "metadata": {},
   "source": [
    "__Q6a.__ Comment on the extent to which mean age, height, and BMI vary among the MVUs."
   ]
  },
  {
   "cell_type": "markdown",
   "metadata": {},
   "source": [
    "The mean age is widely distributed across the MVUs from 42 to 55. There is perhaps a peak around 45.\n",
    "\n",
    "\n",
    "The mean heights appear to fall into 2 separate groupings. One group clusters around a mean height of 160cm, the other group clusters around a mean height of 173cm. These value correspond to the mean heights of Females and Males in the survey.\n",
    "\n",
    "\n",
    "BMI of the groups appears to follow a normal distribution with a mean of 29."
   ]
  },
  {
   "cell_type": "markdown",
   "metadata": {},
   "source": [
    "__Q6b.__ Calculate the inter-quartile range (IQR) for age, height, and BMI for each gender and each MVU.  Report the ratio between the largest and smalles IQR across the MVUs."
   ]
  },
  {
   "cell_type": "code",
   "execution_count": 16,
   "metadata": {},
   "outputs": [
    {
     "name": "stdout",
     "output_type": "stream",
     "text": [
      "                            RIDAGEYR Q1  BMXHT Q1  BMXBMI Q1  RIDAGEYR Q3  BMXHT Q3  BMXBMI Q3  RIDAGEYR IQR  BMXHT IQR  BMXBMI IQR\n",
      "SDMVSTRA SDMVPSU RIAGENDRx                                                                                                         \n",
      "119      1       Female           31.50   154.575     23.925        62.75   163.900     33.675         31.25      9.325       9.750\n",
      "                 Male             32.50   168.825     23.150        62.25   177.825     28.500         29.75      9.000       5.350\n",
      "         2       Female           35.50   154.350     22.500        69.00   164.300     31.850         33.50      9.950       9.350\n",
      "                 Male             40.00   167.000     24.100        69.00   178.225     29.400         29.00     11.225       5.300\n",
      "120      1       Female           30.50   151.050     28.125        57.00   159.800     36.900         26.50      8.750       8.775\n",
      "                 Male             31.75   163.675     25.700        55.50   175.800     35.100         23.75     12.125       9.400\n",
      "         2       Female           28.50   153.850     23.100        54.25   164.400     30.850         25.75     10.550       7.750\n",
      "                 Male             33.00   168.400     23.500        59.00   178.900     30.600         26.00     10.500       7.100\n",
      "121      1       Female           31.25   154.500     25.600        57.50   163.650     34.600         26.25      9.150       9.000\n",
      "                 Male             28.50   166.975     25.500        63.00   177.700     33.000         34.50     10.725       7.500\n",
      "         2       Female           30.00   155.200     21.500        56.00   164.800     29.600         26.00      9.600       8.100\n",
      "                 Male             28.00   170.700     22.400        53.50   179.300     28.100         25.50      8.600       5.700\n",
      "122      1       Female           31.00   156.525     23.700        55.00   166.925     33.575         24.00     10.400       9.875\n",
      "                 Male             29.25   169.200     23.800        58.75   178.600     31.500         29.50      9.400       7.700\n",
      "         2       Female           35.00   153.500     22.425        60.00   161.075     30.900         25.00      7.575       8.475\n",
      "                 Male             28.00   165.050     23.500        58.00   175.200     27.600         30.00     10.150       4.100\n",
      "123      1       Female           29.50   157.525     23.975        60.00   167.200     34.425         30.50      9.675      10.450\n",
      "                 Male             32.75   169.675     24.575        61.00   179.025     32.625         28.25      9.350       8.050\n",
      "         2       Female           28.25   154.600     24.800        62.75   165.800     34.775         34.50     11.200       9.975\n",
      "                 Male             35.50   168.500     24.650        67.00   178.400     32.750         31.50      9.900       8.100\n",
      "124      1       Female           37.00   154.950     24.300        64.00   163.325     33.250         27.00      8.375       8.950\n",
      "                 Male             33.00   166.900     25.250        65.00   176.700     31.350         32.00      9.800       6.100\n",
      "         2       Female           29.00   159.000     22.600        52.50   167.650     31.600         23.50      8.650       9.000\n",
      "                 Male             34.00   168.000     23.000        65.00   179.600     31.700         31.00     11.600       8.700\n",
      "125      1       Female           34.00   156.300     25.700        65.00   165.400     33.700         31.00      9.100       8.000\n",
      "                 Male             41.00   168.550     25.200        70.00   178.900     33.500         29.00     10.350       8.300\n",
      "         2       Female           34.75   154.525     23.325        67.00   165.200     33.650         32.25     10.675      10.325\n",
      "                 Male             32.25   170.900     25.400        65.75   178.825     33.300         33.50      7.925       7.900\n",
      "126      1       Female           30.75   156.000     25.725        61.00   164.500     36.400         30.25      8.500      10.675\n",
      "                 Male             30.00   170.250     24.700        66.25   180.700     32.700         36.25     10.450       8.000\n",
      "         2       Female           31.00   155.275     23.950        62.75   167.300     34.300         31.75     12.025      10.350\n",
      "                 Male             32.00   170.875     24.850        66.00   179.000     31.700         34.00      8.125       6.850\n",
      "127      1       Female           35.75   153.150     25.900        63.00   160.850     37.650         27.25      7.700      11.750\n",
      "                 Male             38.00   167.650     26.500        68.00   176.675     34.700         30.00      9.025       8.200\n",
      "         2       Female           35.00   153.100     25.300        65.00   164.700     34.500         30.00     11.600       9.200\n",
      "                 Male             40.00   168.350     27.400        68.00   179.100     33.350         28.00     10.750       5.950\n",
      "128      1       Female           42.00   151.600     27.475        70.00   160.725     35.975         28.00      9.125       8.500\n",
      "                 Male             36.00   164.500     27.775        69.00   174.450     34.450         33.00      9.950       6.675\n",
      "         2       Female           33.00   154.975     22.250        55.00   165.625     31.625         22.00     10.650       9.375\n",
      "                 Male             31.50   167.400     23.550        57.00   177.250     29.350         25.50      9.850       5.800\n",
      "129      1       Female           32.25   152.225     23.550        57.00   162.600     33.050         24.75     10.375       9.500\n",
      "                 Male             33.00   165.100     23.100        53.75   177.400     29.125         20.75     12.300       6.025\n",
      "         2       Female           30.00   156.725     23.275        56.25   165.625     33.000         26.25      8.900       9.725\n",
      "                 Male             29.25   167.700     25.500        60.00   178.400     31.300         30.75     10.700       5.800\n",
      "130      1       Female           29.50   158.200     24.600        65.00   166.850     35.800         35.50      8.650      11.200\n",
      "                 Male             33.00   172.200     26.400        69.00   182.100     33.100         36.00      9.900       6.700\n",
      "         2       Female           35.00   155.500     26.650        65.25   165.725     34.700         30.25     10.225       8.050\n",
      "                 Male             36.00   170.675     24.325        64.50   179.300     32.700         28.50      8.625       8.375\n",
      "131      1       Female           41.25   157.150     24.225        77.00   167.175     35.300         35.75     10.025      11.075\n",
      "                 Male             36.50   169.900     24.300        72.50   180.400     31.825         36.00     10.500       7.525\n",
      "         2       Female           31.00   157.900     26.850        55.00   165.475     37.475         24.00      7.575      10.625\n",
      "                 Male             32.00   170.975     25.575        60.00   178.725     33.425         28.00      7.750       7.850\n",
      "132      1       Female           28.00   156.000     24.000        58.00   166.950     34.700         30.00     10.950      10.700\n",
      "                 Male             31.00   167.600     24.600        52.25   178.200     31.200         21.25     10.600       6.600\n",
      "         2       Female           36.00   154.200     23.575        69.00   164.300     35.325         33.00     10.100      11.750\n",
      "                 Male             31.00   167.925     23.825        69.00   178.475     33.425         38.00     10.550       9.600\n",
      "133      1       Female           27.00   152.325     23.800        61.00   162.625     32.100         34.00     10.300       8.300\n",
      "                 Male             26.00   167.075     24.200        59.00   176.000     30.625         33.00      8.925       6.425\n",
      "         2       Female           32.00   153.900     23.200        60.50   163.450     32.850         28.50      9.550       9.650\n",
      "                 Male             30.00   167.075     23.975        62.25   175.925     29.875         32.25      8.850       5.900\n"
     ]
    },
    {
     "data": {
      "text/html": [
       "<div>\n",
       "<style scoped>\n",
       "    .dataframe tbody tr th:only-of-type {\n",
       "        vertical-align: middle;\n",
       "    }\n",
       "\n",
       "    .dataframe tbody tr th {\n",
       "        vertical-align: top;\n",
       "    }\n",
       "\n",
       "    .dataframe thead th {\n",
       "        text-align: right;\n",
       "    }\n",
       "</style>\n",
       "<table border=\"1\" class=\"dataframe\">\n",
       "  <thead>\n",
       "    <tr style=\"text-align: right;\">\n",
       "      <th></th>\n",
       "      <th>MVU Min</th>\n",
       "      <th>MVU Max</th>\n",
       "      <th>Ratio</th>\n",
       "    </tr>\n",
       "  </thead>\n",
       "  <tbody>\n",
       "    <tr>\n",
       "      <th>RIDAGEYR IQR</th>\n",
       "      <td>20.750</td>\n",
       "      <td>38.00</td>\n",
       "      <td>0.546053</td>\n",
       "    </tr>\n",
       "    <tr>\n",
       "      <th>BMXHT IQR</th>\n",
       "      <td>7.575</td>\n",
       "      <td>12.30</td>\n",
       "      <td>0.615854</td>\n",
       "    </tr>\n",
       "    <tr>\n",
       "      <th>BMXBMI IQR</th>\n",
       "      <td>4.100</td>\n",
       "      <td>11.75</td>\n",
       "      <td>0.348936</td>\n",
       "    </tr>\n",
       "  </tbody>\n",
       "</table>\n",
       "</div>"
      ],
      "text/plain": [
       "              MVU Min  MVU Max     Ratio\n",
       "RIDAGEYR IQR   20.750    38.00  0.546053\n",
       "BMXHT IQR       7.575    12.30  0.615854\n",
       "BMXBMI IQR      4.100    11.75  0.348936"
      ]
     },
     "execution_count": 16,
     "metadata": {},
     "output_type": "execute_result"
    }
   ],
   "source": [
    "da_6 = da.groupby(['SDMVSTRA','SDMVPSU','RIAGENDRx'])[['RIDAGEYR','BMXHT','BMXBMI']]\n",
    "da_6.quantile(0.25)\n",
    "# da.groupby(['SDMVSTRA','SDMVPSU','RIAGENDRx'])['RIDAGEYR','BMXHT','BMXBMI'].quantile(0.75)\n",
    "# da_6.loc[:,['RIDAGEYR','BMXHT','BMXBMI']]\n",
    "\n",
    "df = pd.DataFrame()\n",
    "df[['RIDAGEYR Q1','BMXHT Q1','BMXBMI Q1']] = da_6.quantile(0.25)\n",
    "df[['RIDAGEYR Q3','BMXHT Q3','BMXBMI Q3']] = da_6.quantile(0.75)\n",
    "df['RIDAGEYR IQR'] = df['RIDAGEYR Q3'] - df['RIDAGEYR Q1']\n",
    "df['BMXHT IQR'] = df['BMXHT Q3'] - df['BMXHT Q1']\n",
    "df['BMXBMI IQR'] = df['BMXBMI Q3'] - df['BMXBMI Q1']\n",
    "print(df)\n",
    "\n",
    "# print(df.loc[:,['RIDAGEYR IQR','BMXHT IQR','BMXBMI IQR']].describe())\n",
    "\n",
    "df_mm = pd.DataFrame()\n",
    "df_mm['MVU Min'] = df.loc[:,['RIDAGEYR IQR','BMXHT IQR','BMXBMI IQR']].min()\n",
    "df_mm['MVU Max'] = df.loc[:,['RIDAGEYR IQR','BMXHT IQR','BMXBMI IQR']].max()\n",
    "df_mm['Ratio'] = df_mm['MVU Min'] / df_mm['MVU Max']\n",
    "df_mm"
   ]
  },
  {
   "cell_type": "markdown",
   "metadata": {},
   "source": [
    "__Q6c.__ Comment on the extent to which the IQR for age, height, and BMI vary among the MVUs."
   ]
  },
  {
   "cell_type": "markdown",
   "metadata": {},
   "source": [
    "The IQR for Age appears to follow a normal distribution with a median of 30.\n",
    "\n",
    "The IQR for Height has an unclear distribution with 11 being the mode.\n",
    "\n",
    "The IQR for BMI has an unclear distribution with 8 being the most common."
   ]
  }
 ],
 "metadata": {
  "kernelspec": {
   "display_name": "Python 3",
   "language": "python",
   "name": "python3"
  },
  "language_info": {
   "codemirror_mode": {
    "name": "ipython",
    "version": 3
   },
   "file_extension": ".py",
   "mimetype": "text/x-python",
   "name": "python",
   "nbconvert_exporter": "python",
   "pygments_lexer": "ipython3",
   "version": "3.6.3"
  }
 },
 "nbformat": 4,
 "nbformat_minor": 2
}
